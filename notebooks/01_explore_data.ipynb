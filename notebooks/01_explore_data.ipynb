{
 "cells": [
  {
   "cell_type": "markdown",
   "metadata": {},
   "source": [
    "## Imports"
   ]
  },
  {
   "cell_type": "code",
   "execution_count": 141,
   "metadata": {},
   "outputs": [],
   "source": [
    "import sqlite3\n",
    "import pandas as pd\n",
    "import os\n",
    "import numpy as np\n",
    "import matplotlib.pyplot as plt"
   ]
  },
  {
   "cell_type": "markdown",
   "metadata": {},
   "source": [
    "## Initialisations"
   ]
  },
  {
   "cell_type": "code",
   "execution_count": 142,
   "metadata": {},
   "outputs": [],
   "source": [
    "## Initialise paths\n",
    "db_path = os.path.join('../', 'challenge.db')"
   ]
  },
  {
   "cell_type": "markdown",
   "metadata": {},
   "source": [
    "## Connect to the db"
   ]
  },
  {
   "cell_type": "code",
   "execution_count": 143,
   "metadata": {},
   "outputs": [],
   "source": [
    "conn  = sqlite3.connect(db_path)"
   ]
  },
  {
   "cell_type": "markdown",
   "metadata": {},
   "source": [
    "## Fetch data from db"
   ]
  },
  {
   "cell_type": "code",
   "execution_count": 144,
   "metadata": {},
   "outputs": [],
   "source": [
    "# Query the db\n",
    "tables_list = ['conversions', 'session_sources', 'conversions_backend', 'api_adwords_costs', 'attribution_customer_journey']\n",
    "dataframes = {}\n",
    "for table in tables_list:\n",
    "    query = f\"SELECT * FROM {table}\"\n",
    "    df_name = f\"{table}_df\"\n",
    "    dataframes[df_name] = pd.read_sql_query(query, conn)\n",
    "\n",
    "# Close db connnection    \n",
    "conn.close()"
   ]
  },
  {
   "cell_type": "code",
   "execution_count": 145,
   "metadata": {},
   "outputs": [],
   "source": [
    "conversions_df = dataframes['conversions_df']\n",
    "session_sources_df = dataframes['session_sources_df']\n",
    "conversions_backend_df = dataframes['conversions_backend_df']\n",
    "api_adwords_costs_df = dataframes['api_adwords_costs_df']\n",
    "attribution_customer_journey_df = dataframes['attribution_customer_journey_df']"
   ]
  },
  {
   "cell_type": "markdown",
   "metadata": {},
   "source": [
    "Now I have all the tables in dataframes ready to be explored."
   ]
  },
  {
   "cell_type": "markdown",
   "metadata": {},
   "source": [
    "## Explore dataframes"
   ]
  },
  {
   "cell_type": "markdown",
   "metadata": {},
   "source": [
    "### Conversions\n",
    "\n",
    "* conv_id: unique identifier of this conversion\n",
    "* user_id: user identifier\n",
    "* conv_date: date when the conversion happened\n",
    "* market: regional market that this conversion belongs to\n",
    "* revenue: conversion amount (i.e. how much revenue the company earned through this conversion, you can assume its in Euro)"
   ]
  },
  {
   "cell_type": "code",
   "execution_count": 146,
   "metadata": {},
   "outputs": [
    {
     "data": {
      "text/html": [
       "<div>\n",
       "<style scoped>\n",
       "    .dataframe tbody tr th:only-of-type {\n",
       "        vertical-align: middle;\n",
       "    }\n",
       "\n",
       "    .dataframe tbody tr th {\n",
       "        vertical-align: top;\n",
       "    }\n",
       "\n",
       "    .dataframe thead th {\n",
       "        text-align: right;\n",
       "    }\n",
       "</style>\n",
       "<table border=\"1\" class=\"dataframe\">\n",
       "  <thead>\n",
       "    <tr style=\"text-align: right;\">\n",
       "      <th></th>\n",
       "      <th>conv_id</th>\n",
       "      <th>user_id</th>\n",
       "      <th>conv_date</th>\n",
       "      <th>market</th>\n",
       "      <th>revenue</th>\n",
       "    </tr>\n",
       "  </thead>\n",
       "  <tbody>\n",
       "    <tr>\n",
       "      <th>0</th>\n",
       "      <td>conv_id_16788</td>\n",
       "      <td>user_id_569581</td>\n",
       "      <td>2021-07-15</td>\n",
       "      <td>NL</td>\n",
       "      <td>219.73</td>\n",
       "    </tr>\n",
       "    <tr>\n",
       "      <th>1</th>\n",
       "      <td>conv_id_9916</td>\n",
       "      <td>user_id_62541</td>\n",
       "      <td>2021-07-15</td>\n",
       "      <td>DE</td>\n",
       "      <td>104.21</td>\n",
       "    </tr>\n",
       "    <tr>\n",
       "      <th>2</th>\n",
       "      <td>conv_id_8443</td>\n",
       "      <td>user_id_494266</td>\n",
       "      <td>2021-07-15</td>\n",
       "      <td>NL</td>\n",
       "      <td>55.69</td>\n",
       "    </tr>\n",
       "  </tbody>\n",
       "</table>\n",
       "</div>"
      ],
      "text/plain": [
       "         conv_id         user_id   conv_date market  revenue\n",
       "0  conv_id_16788  user_id_569581  2021-07-15     NL   219.73\n",
       "1   conv_id_9916   user_id_62541  2021-07-15     DE   104.21\n",
       "2   conv_id_8443  user_id_494266  2021-07-15     NL    55.69"
      ]
     },
     "execution_count": 146,
     "metadata": {},
     "output_type": "execute_result"
    }
   ],
   "source": [
    "# Read the dataframe\n",
    "conversions_df.head(3)"
   ]
  },
  {
   "cell_type": "markdown",
   "metadata": {},
   "source": [
    "It looks like the conv_id contains conversion ids with prefix `conv_id_`, and user ids with `user_id_`. The date is in the format `yyyy-mm-dd` and market contains country codes such as NL, DE for Netherlands and Germany. The revenue is in Euros."
   ]
  },
  {
   "cell_type": "code",
   "execution_count": 147,
   "metadata": {},
   "outputs": [
    {
     "data": {
      "text/html": [
       "<div>\n",
       "<style scoped>\n",
       "    .dataframe tbody tr th:only-of-type {\n",
       "        vertical-align: middle;\n",
       "    }\n",
       "\n",
       "    .dataframe tbody tr th {\n",
       "        vertical-align: top;\n",
       "    }\n",
       "\n",
       "    .dataframe thead th {\n",
       "        text-align: right;\n",
       "    }\n",
       "</style>\n",
       "<table border=\"1\" class=\"dataframe\">\n",
       "  <thead>\n",
       "    <tr style=\"text-align: right;\">\n",
       "      <th></th>\n",
       "      <th>conv_id</th>\n",
       "      <th>user_id</th>\n",
       "      <th>conv_date</th>\n",
       "      <th>market</th>\n",
       "      <th>revenue</th>\n",
       "    </tr>\n",
       "  </thead>\n",
       "  <tbody>\n",
       "    <tr>\n",
       "      <th>count</th>\n",
       "      <td>16954</td>\n",
       "      <td>16954</td>\n",
       "      <td>16954</td>\n",
       "      <td>16954</td>\n",
       "      <td>16954.0</td>\n",
       "    </tr>\n",
       "    <tr>\n",
       "      <th>unique</th>\n",
       "      <td>16938</td>\n",
       "      <td>16373</td>\n",
       "      <td>17</td>\n",
       "      <td>28</td>\n",
       "      <td></td>\n",
       "    </tr>\n",
       "    <tr>\n",
       "      <th>top</th>\n",
       "      <td>conv_id_291</td>\n",
       "      <td>user_id_210830</td>\n",
       "      <td>2021-07-30</td>\n",
       "      <td>GB</td>\n",
       "      <td></td>\n",
       "    </tr>\n",
       "    <tr>\n",
       "      <th>freq</th>\n",
       "      <td>2</td>\n",
       "      <td>179</td>\n",
       "      <td>2294</td>\n",
       "      <td>5766</td>\n",
       "      <td></td>\n",
       "    </tr>\n",
       "    <tr>\n",
       "      <th>mean</th>\n",
       "      <td></td>\n",
       "      <td></td>\n",
       "      <td></td>\n",
       "      <td></td>\n",
       "      <td>50.082734</td>\n",
       "    </tr>\n",
       "    <tr>\n",
       "      <th>std</th>\n",
       "      <td></td>\n",
       "      <td></td>\n",
       "      <td></td>\n",
       "      <td></td>\n",
       "      <td>55.872318</td>\n",
       "    </tr>\n",
       "    <tr>\n",
       "      <th>min</th>\n",
       "      <td></td>\n",
       "      <td></td>\n",
       "      <td></td>\n",
       "      <td></td>\n",
       "      <td>0.0</td>\n",
       "    </tr>\n",
       "    <tr>\n",
       "      <th>25%</th>\n",
       "      <td></td>\n",
       "      <td></td>\n",
       "      <td></td>\n",
       "      <td></td>\n",
       "      <td>25.13</td>\n",
       "    </tr>\n",
       "    <tr>\n",
       "      <th>50%</th>\n",
       "      <td></td>\n",
       "      <td></td>\n",
       "      <td></td>\n",
       "      <td></td>\n",
       "      <td>39.67</td>\n",
       "    </tr>\n",
       "    <tr>\n",
       "      <th>75%</th>\n",
       "      <td></td>\n",
       "      <td></td>\n",
       "      <td></td>\n",
       "      <td></td>\n",
       "      <td>65.34</td>\n",
       "    </tr>\n",
       "    <tr>\n",
       "      <th>max</th>\n",
       "      <td></td>\n",
       "      <td></td>\n",
       "      <td></td>\n",
       "      <td></td>\n",
       "      <td>1839.2</td>\n",
       "    </tr>\n",
       "  </tbody>\n",
       "</table>\n",
       "</div>"
      ],
      "text/plain": [
       "            conv_id         user_id   conv_date market    revenue\n",
       "count         16954           16954       16954  16954    16954.0\n",
       "unique        16938           16373          17     28           \n",
       "top     conv_id_291  user_id_210830  2021-07-30     GB           \n",
       "freq              2             179        2294   5766           \n",
       "mean                                                    50.082734\n",
       "std                                                     55.872318\n",
       "min                                                           0.0\n",
       "25%                                                         25.13\n",
       "50%                                                         39.67\n",
       "75%                                                         65.34\n",
       "max                                                        1839.2"
      ]
     },
     "execution_count": 147,
     "metadata": {},
     "output_type": "execute_result"
    }
   ],
   "source": [
    "conversions_df.describe(include='all').fillna('')"
   ]
  },
  {
   "cell_type": "code",
   "execution_count": 148,
   "metadata": {},
   "outputs": [
    {
     "name": "stdout",
     "output_type": "stream",
     "text": [
      "conv_id <class 'str'>\n",
      "user_id <class 'str'>\n",
      "conv_date <class 'str'>\n",
      "market <class 'str'>\n",
      "revenue <class 'numpy.float64'>\n"
     ]
    }
   ],
   "source": [
    "for column in conversions_df.columns:\n",
    "    print(column, type(conversions_df[column].loc[0]))"
   ]
  },
  {
   "cell_type": "code",
   "execution_count": 149,
   "metadata": {},
   "outputs": [
    {
     "data": {
      "text/plain": [
       "conv_id      0\n",
       "user_id      0\n",
       "conv_date    0\n",
       "market       0\n",
       "revenue      0\n",
       "dtype: int64"
      ]
     },
     "execution_count": 149,
     "metadata": {},
     "output_type": "execute_result"
    }
   ],
   "source": [
    "conversions_df.isnull().sum()"
   ]
  },
  {
   "cell_type": "code",
   "execution_count": 150,
   "metadata": {},
   "outputs": [
    {
     "data": {
      "text/html": [
       "<div>\n",
       "<style scoped>\n",
       "    .dataframe tbody tr th:only-of-type {\n",
       "        vertical-align: middle;\n",
       "    }\n",
       "\n",
       "    .dataframe tbody tr th {\n",
       "        vertical-align: top;\n",
       "    }\n",
       "\n",
       "    .dataframe thead th {\n",
       "        text-align: right;\n",
       "    }\n",
       "</style>\n",
       "<table border=\"1\" class=\"dataframe\">\n",
       "  <thead>\n",
       "    <tr style=\"text-align: right;\">\n",
       "      <th></th>\n",
       "      <th>conv_id</th>\n",
       "      <th>user_id</th>\n",
       "      <th>conv_date</th>\n",
       "      <th>market</th>\n",
       "      <th>revenue</th>\n",
       "    </tr>\n",
       "  </thead>\n",
       "  <tbody>\n",
       "    <tr>\n",
       "      <th>13570</th>\n",
       "      <td>conv_id_10826</td>\n",
       "      <td>user_id_172209</td>\n",
       "      <td>2021-07-30</td>\n",
       "      <td>NL</td>\n",
       "      <td>44.96</td>\n",
       "    </tr>\n",
       "    <tr>\n",
       "      <th>16949</th>\n",
       "      <td>conv_id_10826</td>\n",
       "      <td>user_id_197806</td>\n",
       "      <td>2021-07-30</td>\n",
       "      <td>NL</td>\n",
       "      <td>44.96</td>\n",
       "    </tr>\n",
       "    <tr>\n",
       "      <th>13696</th>\n",
       "      <td>conv_id_1128</td>\n",
       "      <td>user_id_1075383</td>\n",
       "      <td>2021-07-30</td>\n",
       "      <td>FR</td>\n",
       "      <td>68.33</td>\n",
       "    </tr>\n",
       "    <tr>\n",
       "      <th>16950</th>\n",
       "      <td>conv_id_1128</td>\n",
       "      <td>user_id_592828</td>\n",
       "      <td>2021-07-30</td>\n",
       "      <td>FR</td>\n",
       "      <td>68.33</td>\n",
       "    </tr>\n",
       "    <tr>\n",
       "      <th>12343</th>\n",
       "      <td>conv_id_11991</td>\n",
       "      <td>user_id_8521</td>\n",
       "      <td>2021-07-28</td>\n",
       "      <td>GB</td>\n",
       "      <td>70.72</td>\n",
       "    </tr>\n",
       "    <tr>\n",
       "      <th>16948</th>\n",
       "      <td>conv_id_11991</td>\n",
       "      <td>user_id_1111998</td>\n",
       "      <td>2021-07-28</td>\n",
       "      <td>GB</td>\n",
       "      <td>70.72</td>\n",
       "    </tr>\n",
       "    <tr>\n",
       "      <th>14465</th>\n",
       "      <td>conv_id_12394</td>\n",
       "      <td>user_id_102818</td>\n",
       "      <td>2021-07-30</td>\n",
       "      <td>DE</td>\n",
       "      <td>45.71</td>\n",
       "    </tr>\n",
       "    <tr>\n",
       "      <th>16951</th>\n",
       "      <td>conv_id_12394</td>\n",
       "      <td>user_id_381420</td>\n",
       "      <td>2021-07-30</td>\n",
       "      <td>DE</td>\n",
       "      <td>45.71</td>\n",
       "    </tr>\n",
       "    <tr>\n",
       "      <th>16947</th>\n",
       "      <td>conv_id_12408</td>\n",
       "      <td>user_id_405560</td>\n",
       "      <td>2021-07-27</td>\n",
       "      <td>FR</td>\n",
       "      <td>80.04</td>\n",
       "    </tr>\n",
       "    <tr>\n",
       "      <th>10843</th>\n",
       "      <td>conv_id_12408</td>\n",
       "      <td>user_id_57098</td>\n",
       "      <td>2021-07-27</td>\n",
       "      <td>FR</td>\n",
       "      <td>80.04</td>\n",
       "    </tr>\n",
       "    <tr>\n",
       "      <th>16945</th>\n",
       "      <td>conv_id_13135</td>\n",
       "      <td>user_id_747006</td>\n",
       "      <td>2021-07-23</td>\n",
       "      <td>NL</td>\n",
       "      <td>64.46</td>\n",
       "    </tr>\n",
       "    <tr>\n",
       "      <th>7277</th>\n",
       "      <td>conv_id_13135</td>\n",
       "      <td>user_id_356094</td>\n",
       "      <td>2021-07-23</td>\n",
       "      <td>NL</td>\n",
       "      <td>64.46</td>\n",
       "    </tr>\n",
       "    <tr>\n",
       "      <th>2533</th>\n",
       "      <td>conv_id_15447</td>\n",
       "      <td>user_id_181703</td>\n",
       "      <td>2021-07-18</td>\n",
       "      <td>BE</td>\n",
       "      <td>36.53</td>\n",
       "    </tr>\n",
       "    <tr>\n",
       "      <th>16941</th>\n",
       "      <td>conv_id_15447</td>\n",
       "      <td>user_id_998630</td>\n",
       "      <td>2021-07-18</td>\n",
       "      <td>BE</td>\n",
       "      <td>36.53</td>\n",
       "    </tr>\n",
       "    <tr>\n",
       "      <th>1219</th>\n",
       "      <td>conv_id_159</td>\n",
       "      <td>user_id_95063</td>\n",
       "      <td>2021-07-16</td>\n",
       "      <td>DE</td>\n",
       "      <td>100.83</td>\n",
       "    </tr>\n",
       "    <tr>\n",
       "      <th>16940</th>\n",
       "      <td>conv_id_159</td>\n",
       "      <td>user_id_26171</td>\n",
       "      <td>2021-07-16</td>\n",
       "      <td>DE</td>\n",
       "      <td>100.83</td>\n",
       "    </tr>\n",
       "    <tr>\n",
       "      <th>173</th>\n",
       "      <td>conv_id_16016</td>\n",
       "      <td>user_id_114398</td>\n",
       "      <td>2021-07-15</td>\n",
       "      <td>NL</td>\n",
       "      <td>30.99</td>\n",
       "    </tr>\n",
       "    <tr>\n",
       "      <th>16939</th>\n",
       "      <td>conv_id_16016</td>\n",
       "      <td>user_id_28526</td>\n",
       "      <td>2021-07-15</td>\n",
       "      <td>NL</td>\n",
       "      <td>30.99</td>\n",
       "    </tr>\n",
       "    <tr>\n",
       "      <th>16938</th>\n",
       "      <td>conv_id_16249</td>\n",
       "      <td>user_id_182167</td>\n",
       "      <td>2021-07-15</td>\n",
       "      <td>AT</td>\n",
       "      <td>161.35</td>\n",
       "    </tr>\n",
       "    <tr>\n",
       "      <th>21</th>\n",
       "      <td>conv_id_16249</td>\n",
       "      <td>user_id_411752</td>\n",
       "      <td>2021-07-15</td>\n",
       "      <td>AT</td>\n",
       "      <td>161.35</td>\n",
       "    </tr>\n",
       "    <tr>\n",
       "      <th>3782</th>\n",
       "      <td>conv_id_16550</td>\n",
       "      <td>user_id_460985</td>\n",
       "      <td>2021-07-18</td>\n",
       "      <td>GB</td>\n",
       "      <td>197.27</td>\n",
       "    </tr>\n",
       "    <tr>\n",
       "      <th>16942</th>\n",
       "      <td>conv_id_16550</td>\n",
       "      <td>user_id_868787</td>\n",
       "      <td>2021-07-18</td>\n",
       "      <td>GB</td>\n",
       "      <td>197.27</td>\n",
       "    </tr>\n",
       "    <tr>\n",
       "      <th>15373</th>\n",
       "      <td>conv_id_1675</td>\n",
       "      <td>user_id_724635</td>\n",
       "      <td>2021-07-30</td>\n",
       "      <td>GB</td>\n",
       "      <td>52.02</td>\n",
       "    </tr>\n",
       "    <tr>\n",
       "      <th>16953</th>\n",
       "      <td>conv_id_1675</td>\n",
       "      <td>user_id_803302</td>\n",
       "      <td>2021-07-30</td>\n",
       "      <td>GB</td>\n",
       "      <td>52.02</td>\n",
       "    </tr>\n",
       "    <tr>\n",
       "      <th>16946</th>\n",
       "      <td>conv_id_291</td>\n",
       "      <td>user_id_879570</td>\n",
       "      <td>2021-07-25</td>\n",
       "      <td>GB</td>\n",
       "      <td>28.75</td>\n",
       "    </tr>\n",
       "    <tr>\n",
       "      <th>9326</th>\n",
       "      <td>conv_id_291</td>\n",
       "      <td>user_id_1115833</td>\n",
       "      <td>2021-07-25</td>\n",
       "      <td>GB</td>\n",
       "      <td>28.75</td>\n",
       "    </tr>\n",
       "    <tr>\n",
       "      <th>16943</th>\n",
       "      <td>conv_id_5495</td>\n",
       "      <td>user_id_998862</td>\n",
       "      <td>2021-07-21</td>\n",
       "      <td>GB</td>\n",
       "      <td>80.04</td>\n",
       "    </tr>\n",
       "    <tr>\n",
       "      <th>6143</th>\n",
       "      <td>conv_id_5495</td>\n",
       "      <td>user_id_1123117</td>\n",
       "      <td>2021-07-21</td>\n",
       "      <td>GB</td>\n",
       "      <td>80.04</td>\n",
       "    </tr>\n",
       "    <tr>\n",
       "      <th>7006</th>\n",
       "      <td>conv_id_6545</td>\n",
       "      <td>user_id_1082401</td>\n",
       "      <td>2021-07-22</td>\n",
       "      <td>GB</td>\n",
       "      <td>61.75</td>\n",
       "    </tr>\n",
       "    <tr>\n",
       "      <th>16944</th>\n",
       "      <td>conv_id_6545</td>\n",
       "      <td>user_id_873722</td>\n",
       "      <td>2021-07-22</td>\n",
       "      <td>GB</td>\n",
       "      <td>61.75</td>\n",
       "    </tr>\n",
       "    <tr>\n",
       "      <th>16952</th>\n",
       "      <td>conv_id_843</td>\n",
       "      <td>user_id_786042</td>\n",
       "      <td>2021-07-30</td>\n",
       "      <td>NL</td>\n",
       "      <td>51.57</td>\n",
       "    </tr>\n",
       "    <tr>\n",
       "      <th>14847</th>\n",
       "      <td>conv_id_843</td>\n",
       "      <td>user_id_122548</td>\n",
       "      <td>2021-07-30</td>\n",
       "      <td>NL</td>\n",
       "      <td>51.57</td>\n",
       "    </tr>\n",
       "  </tbody>\n",
       "</table>\n",
       "</div>"
      ],
      "text/plain": [
       "             conv_id          user_id   conv_date market  revenue\n",
       "13570  conv_id_10826   user_id_172209  2021-07-30     NL    44.96\n",
       "16949  conv_id_10826   user_id_197806  2021-07-30     NL    44.96\n",
       "13696   conv_id_1128  user_id_1075383  2021-07-30     FR    68.33\n",
       "16950   conv_id_1128   user_id_592828  2021-07-30     FR    68.33\n",
       "12343  conv_id_11991     user_id_8521  2021-07-28     GB    70.72\n",
       "16948  conv_id_11991  user_id_1111998  2021-07-28     GB    70.72\n",
       "14465  conv_id_12394   user_id_102818  2021-07-30     DE    45.71\n",
       "16951  conv_id_12394   user_id_381420  2021-07-30     DE    45.71\n",
       "16947  conv_id_12408   user_id_405560  2021-07-27     FR    80.04\n",
       "10843  conv_id_12408    user_id_57098  2021-07-27     FR    80.04\n",
       "16945  conv_id_13135   user_id_747006  2021-07-23     NL    64.46\n",
       "7277   conv_id_13135   user_id_356094  2021-07-23     NL    64.46\n",
       "2533   conv_id_15447   user_id_181703  2021-07-18     BE    36.53\n",
       "16941  conv_id_15447   user_id_998630  2021-07-18     BE    36.53\n",
       "1219     conv_id_159    user_id_95063  2021-07-16     DE   100.83\n",
       "16940    conv_id_159    user_id_26171  2021-07-16     DE   100.83\n",
       "173    conv_id_16016   user_id_114398  2021-07-15     NL    30.99\n",
       "16939  conv_id_16016    user_id_28526  2021-07-15     NL    30.99\n",
       "16938  conv_id_16249   user_id_182167  2021-07-15     AT   161.35\n",
       "21     conv_id_16249   user_id_411752  2021-07-15     AT   161.35\n",
       "3782   conv_id_16550   user_id_460985  2021-07-18     GB   197.27\n",
       "16942  conv_id_16550   user_id_868787  2021-07-18     GB   197.27\n",
       "15373   conv_id_1675   user_id_724635  2021-07-30     GB    52.02\n",
       "16953   conv_id_1675   user_id_803302  2021-07-30     GB    52.02\n",
       "16946    conv_id_291   user_id_879570  2021-07-25     GB    28.75\n",
       "9326     conv_id_291  user_id_1115833  2021-07-25     GB    28.75\n",
       "16943   conv_id_5495   user_id_998862  2021-07-21     GB    80.04\n",
       "6143    conv_id_5495  user_id_1123117  2021-07-21     GB    80.04\n",
       "7006    conv_id_6545  user_id_1082401  2021-07-22     GB    61.75\n",
       "16944   conv_id_6545   user_id_873722  2021-07-22     GB    61.75\n",
       "16952    conv_id_843   user_id_786042  2021-07-30     NL    51.57\n",
       "14847    conv_id_843   user_id_122548  2021-07-30     NL    51.57"
      ]
     },
     "execution_count": 150,
     "metadata": {},
     "output_type": "execute_result"
    }
   ],
   "source": [
    "# Check for duplicates in conv_id column\n",
    "duplicates = conversions_df[conversions_df.duplicated(subset=['conv_id'], keep=False)]\n",
    "duplicates.sort_values(by=['conv_id'])"
   ]
  },
  {
   "cell_type": "markdown",
   "metadata": {},
   "source": [
    "From the above, we can see that no all conv_ids are unique. There are some which are duplicates - conv_ids with more than 1 user_ids but same data in other columns. This is a possible quality issue.\n",
    "\n",
    "Moreover, all the columns are of string datatype. It can be noted that even the date is in string format. May be we need to use `datetime` to use the date values effectively. Also, note that there are 28 markets. Also, there are no null values in the data.\n",
    "\n",
    "Now let's look into each column."
   ]
  },
  {
   "cell_type": "code",
   "execution_count": 151,
   "metadata": {},
   "outputs": [
    {
     "data": {
      "text/plain": [
       "16098    conv_id_12755\n",
       "9019        conv_id_80\n",
       "4942     conv_id_12016\n",
       "Name: conv_id, dtype: object"
      ]
     },
     "execution_count": 151,
     "metadata": {},
     "output_type": "execute_result"
    }
   ],
   "source": [
    "# conv_id\n",
    "conversions_df['conv_id'].sample(3)"
   ]
  },
  {
   "cell_type": "code",
   "execution_count": 152,
   "metadata": {},
   "outputs": [
    {
     "data": {
      "text/plain": [
       "3600      user_id_522647\n",
       "11182     user_id_953118\n",
       "3760     user_id_1102280\n",
       "Name: user_id, dtype: object"
      ]
     },
     "execution_count": 152,
     "metadata": {},
     "output_type": "execute_result"
    }
   ],
   "source": [
    "# user_id\n",
    "conversions_df['user_id'].sample(3)"
   ]
  },
  {
   "cell_type": "code",
   "execution_count": 153,
   "metadata": {},
   "outputs": [
    {
     "name": "stdout",
     "output_type": "stream",
     "text": [
      "The min date is 2021-07-15\n",
      "The max date is 2021-07-31\n",
      "The count of unique dates are 17\n",
      "The unique dates are given below \n",
      " ['2021-07-15' '2021-07-16' '2021-07-17' '2021-07-18' '2021-07-19'\n",
      " '2021-07-20' '2021-07-21' '2021-07-22' '2021-07-23' '2021-07-24'\n",
      " '2021-07-25' '2021-07-26' '2021-07-27' '2021-07-28' '2021-07-29'\n",
      " '2021-07-30' '2021-07-31']\n",
      "The datatype of date value is <class 'str'>\n"
     ]
    }
   ],
   "source": [
    "# conv_date\n",
    "print(f\"The min date is {conversions_df['conv_date'].min()}\")\n",
    "print(f\"The max date is {conversions_df['conv_date'].max()}\")\n",
    "print(f\"The count of unique dates are {conversions_df['conv_date'].nunique()}\")\n",
    "print(f\"The unique dates are given below \\n {conversions_df['conv_date'].unique()}\")\n",
    "print(f\"The datatype of date value is {type(conversions_df['conv_date'].loc[0])}\")"
   ]
  },
  {
   "cell_type": "code",
   "execution_count": 154,
   "metadata": {},
   "outputs": [
    {
     "data": {
      "text/plain": [
       "15265    GB\n",
       "16142    NL\n",
       "12229    GB\n",
       "Name: market, dtype: object"
      ]
     },
     "execution_count": 154,
     "metadata": {},
     "output_type": "execute_result"
    }
   ],
   "source": [
    "# market\n",
    "conversions_df['market'].sample(3)"
   ]
  },
  {
   "cell_type": "code",
   "execution_count": 155,
   "metadata": {},
   "outputs": [
    {
     "name": "stdout",
     "output_type": "stream",
     "text": [
      "The count of unique markets are 28\n",
      "The unique market are given below \n",
      " ['NL' 'DE' 'AT' 'FR' 'BE' 'DK' 'IT' 'ES' 'CY' 'IE' 'LV' 'GB' 'SE' 'HU'\n",
      " 'LU' 'PT' 'FI' 'SI' 'BG' 'SK' 'PL' 'GR' 'EE' 'LT' 'CZ' 'HR' 'MT' 'EU']\n"
     ]
    }
   ],
   "source": [
    "print(f\"The count of unique markets are {conversions_df['market'].nunique()}\")\n",
    "print(f\"The unique market are given below \\n {conversions_df['market'].unique()}\")"
   ]
  },
  {
   "cell_type": "code",
   "execution_count": 156,
   "metadata": {},
   "outputs": [
    {
     "data": {
      "text/plain": [
       "9497     8.40\n",
       "9380    68.09\n",
       "8468    30.87\n",
       "Name: revenue, dtype: float64"
      ]
     },
     "execution_count": 156,
     "metadata": {},
     "output_type": "execute_result"
    }
   ],
   "source": [
    "# revenue\n",
    "conversions_df['revenue'].sample(3)"
   ]
  },
  {
   "cell_type": "code",
   "execution_count": 157,
   "metadata": {},
   "outputs": [
    {
     "name": "stdout",
     "output_type": "stream",
     "text": [
      "The min revenue is 0.0\n",
      "The max revenue is 1839.2\n"
     ]
    }
   ],
   "source": [
    "print(f\"The min revenue is {conversions_df['revenue'].min()}\")\n",
    "print(f\"The max revenue is {conversions_df['revenue'].max()}\")"
   ]
  },
  {
   "cell_type": "markdown",
   "metadata": {},
   "source": [
    "At the first glance the min revenue is 0.0. Let's investigate this."
   ]
  },
  {
   "cell_type": "code",
   "execution_count": 158,
   "metadata": {},
   "outputs": [
    {
     "name": "stdout",
     "output_type": "stream",
     "text": [
      "Number of conversions which show revenue as 0.0 are 197\n"
     ]
    },
    {
     "data": {
      "text/html": [
       "<div>\n",
       "<style scoped>\n",
       "    .dataframe tbody tr th:only-of-type {\n",
       "        vertical-align: middle;\n",
       "    }\n",
       "\n",
       "    .dataframe tbody tr th {\n",
       "        vertical-align: top;\n",
       "    }\n",
       "\n",
       "    .dataframe thead th {\n",
       "        text-align: right;\n",
       "    }\n",
       "</style>\n",
       "<table border=\"1\" class=\"dataframe\">\n",
       "  <thead>\n",
       "    <tr style=\"text-align: right;\">\n",
       "      <th></th>\n",
       "      <th>conv_id</th>\n",
       "      <th>user_id</th>\n",
       "      <th>conv_date</th>\n",
       "      <th>market</th>\n",
       "      <th>revenue</th>\n",
       "    </tr>\n",
       "  </thead>\n",
       "  <tbody>\n",
       "    <tr>\n",
       "      <th>7</th>\n",
       "      <td>conv_id_11478</td>\n",
       "      <td>user_id_758246</td>\n",
       "      <td>2021-07-15</td>\n",
       "      <td>DE</td>\n",
       "      <td>0.0</td>\n",
       "    </tr>\n",
       "    <tr>\n",
       "      <th>10</th>\n",
       "      <td>conv_id_87</td>\n",
       "      <td>user_id_376090</td>\n",
       "      <td>2021-07-15</td>\n",
       "      <td>FR</td>\n",
       "      <td>0.0</td>\n",
       "    </tr>\n",
       "    <tr>\n",
       "      <th>151</th>\n",
       "      <td>conv_id_15098</td>\n",
       "      <td>user_id_47785</td>\n",
       "      <td>2021-07-15</td>\n",
       "      <td>NL</td>\n",
       "      <td>0.0</td>\n",
       "    </tr>\n",
       "  </tbody>\n",
       "</table>\n",
       "</div>"
      ],
      "text/plain": [
       "           conv_id         user_id   conv_date market  revenue\n",
       "7    conv_id_11478  user_id_758246  2021-07-15     DE      0.0\n",
       "10      conv_id_87  user_id_376090  2021-07-15     FR      0.0\n",
       "151  conv_id_15098   user_id_47785  2021-07-15     NL      0.0"
      ]
     },
     "execution_count": 158,
     "metadata": {},
     "output_type": "execute_result"
    }
   ],
   "source": [
    "print(f\"Number of conversions which show revenue as 0.0 are {len(conversions_df[conversions_df['revenue']==0.0])}\")\n",
    "conversions_df[conversions_df['revenue']==0.0].head(3)"
   ]
  },
  {
   "cell_type": "markdown",
   "metadata": {},
   "source": [
    "This looks like a data quality issue. But there can be other reasons for this such as:\n",
    "1. A user used a 100% discount code while purchasing the item.\n",
    "2. Problem while performing the purchase, may be the conversion was recorded but due to issue with payment the revenue was not processed."
   ]
  },
  {
   "cell_type": "markdown",
   "metadata": {},
   "source": [
    "### Conversions Backend\n",
    "\n",
    "* conv_id: unique identifier of this conversion\n",
    "* user_id: user identifier\n",
    "* conv_date: date when the conversion happened\n",
    "* market: regional market that this conversion belongs to\n",
    "* revenue: conversion amount\n"
   ]
  },
  {
   "cell_type": "code",
   "execution_count": 159,
   "metadata": {},
   "outputs": [
    {
     "data": {
      "text/html": [
       "<div>\n",
       "<style scoped>\n",
       "    .dataframe tbody tr th:only-of-type {\n",
       "        vertical-align: middle;\n",
       "    }\n",
       "\n",
       "    .dataframe tbody tr th {\n",
       "        vertical-align: top;\n",
       "    }\n",
       "\n",
       "    .dataframe thead th {\n",
       "        text-align: right;\n",
       "    }\n",
       "</style>\n",
       "<table border=\"1\" class=\"dataframe\">\n",
       "  <thead>\n",
       "    <tr style=\"text-align: right;\">\n",
       "      <th></th>\n",
       "      <th>conv_id</th>\n",
       "      <th>user_id</th>\n",
       "      <th>conv_date</th>\n",
       "      <th>market</th>\n",
       "      <th>revenue</th>\n",
       "    </tr>\n",
       "  </thead>\n",
       "  <tbody>\n",
       "    <tr>\n",
       "      <th>0</th>\n",
       "      <td>conv_id_16788</td>\n",
       "      <td>user_id_569581</td>\n",
       "      <td>2021-07-15</td>\n",
       "      <td>NL</td>\n",
       "      <td>219.73</td>\n",
       "    </tr>\n",
       "    <tr>\n",
       "      <th>1</th>\n",
       "      <td>conv_id_9916</td>\n",
       "      <td>user_id_62541</td>\n",
       "      <td>2021-07-15</td>\n",
       "      <td>DE</td>\n",
       "      <td>104.21</td>\n",
       "    </tr>\n",
       "    <tr>\n",
       "      <th>2</th>\n",
       "      <td>conv_id_8443</td>\n",
       "      <td>user_id_494266</td>\n",
       "      <td>2021-07-15</td>\n",
       "      <td>NL</td>\n",
       "      <td>55.69</td>\n",
       "    </tr>\n",
       "  </tbody>\n",
       "</table>\n",
       "</div>"
      ],
      "text/plain": [
       "         conv_id         user_id   conv_date market  revenue\n",
       "0  conv_id_16788  user_id_569581  2021-07-15     NL   219.73\n",
       "1   conv_id_9916   user_id_62541  2021-07-15     DE   104.21\n",
       "2   conv_id_8443  user_id_494266  2021-07-15     NL    55.69"
      ]
     },
     "execution_count": 159,
     "metadata": {},
     "output_type": "execute_result"
    }
   ],
   "source": [
    "conversions_backend_df.head(3)"
   ]
  },
  {
   "cell_type": "markdown",
   "metadata": {},
   "source": [
    "The conversions backend represent the true data and should contain exact same data as in conversions dataframe. We can check for inconsistencies, if any."
   ]
  },
  {
   "cell_type": "code",
   "execution_count": 160,
   "metadata": {},
   "outputs": [
    {
     "name": "stdout",
     "output_type": "stream",
     "text": [
      "count of records in conversions daraframe is 16954\n",
      "count of records in conversions backend daraframe is 17283\n",
      "There are 329 more records in conversions backend than conversions\n"
     ]
    }
   ],
   "source": [
    "print(f\"count of records in conversions daraframe is {conversions_df.shape[0]}\")\n",
    "print(f\"count of records in conversions backend daraframe is {conversions_backend_df.shape[0]}\")\n",
    "print(f\"There are {conversions_backend_df.shape[0]-conversions_df.shape[0]} more records in conversions backend than conversions\")"
   ]
  },
  {
   "cell_type": "markdown",
   "metadata": {},
   "source": [
    "### Session Sources\n",
    "\n",
    "* session_id: unique identifier of this session\n",
    "* user_id: user identifier\n",
    "* event_date: date when the session happened\n",
    "* event_time: time when the session happened\n",
    "* channel_name: traffic channel that started this session (e.g. 'Email')\n",
    "* campaign_name: advertising campaign name that started this session (e.g. 'adwords_campaign_123')\n",
    "* campaign_id: campaign identifier that started this session (not all sessions have a campaign_id)\n",
    "* market: regional market that this session belongs to (e.g. 'DE' for Germany)\n",
    "* cpc: cost-per-click of this (this is how much was paid for this session, you can assume its in Euro)\n"
   ]
  },
  {
   "cell_type": "code",
   "execution_count": 161,
   "metadata": {},
   "outputs": [
    {
     "data": {
      "text/html": [
       "<div>\n",
       "<style scoped>\n",
       "    .dataframe tbody tr th:only-of-type {\n",
       "        vertical-align: middle;\n",
       "    }\n",
       "\n",
       "    .dataframe tbody tr th {\n",
       "        vertical-align: top;\n",
       "    }\n",
       "\n",
       "    .dataframe thead th {\n",
       "        text-align: right;\n",
       "    }\n",
       "</style>\n",
       "<table border=\"1\" class=\"dataframe\">\n",
       "  <thead>\n",
       "    <tr style=\"text-align: right;\">\n",
       "      <th></th>\n",
       "      <th>session_id</th>\n",
       "      <th>user_id</th>\n",
       "      <th>event_date</th>\n",
       "      <th>event_time</th>\n",
       "      <th>channel_name</th>\n",
       "      <th>campaign_name</th>\n",
       "      <th>campaign_id</th>\n",
       "      <th>market</th>\n",
       "      <th>cpc</th>\n",
       "    </tr>\n",
       "  </thead>\n",
       "  <tbody>\n",
       "    <tr>\n",
       "      <th>0</th>\n",
       "      <td>session_id_660241</td>\n",
       "      <td>user_id_814496</td>\n",
       "      <td>2021-07-03</td>\n",
       "      <td>05:30:20</td>\n",
       "      <td>Affiliate</td>\n",
       "      <td>campaign_name_716</td>\n",
       "      <td>notset</td>\n",
       "      <td>NL</td>\n",
       "      <td>0.018</td>\n",
       "    </tr>\n",
       "    <tr>\n",
       "      <th>1</th>\n",
       "      <td>session_id_9812</td>\n",
       "      <td>user_id_752875</td>\n",
       "      <td>2021-07-19</td>\n",
       "      <td>16:00:40</td>\n",
       "      <td>Affiliate</td>\n",
       "      <td>campaign_name_108</td>\n",
       "      <td>notset</td>\n",
       "      <td>FR</td>\n",
       "      <td>0.000</td>\n",
       "    </tr>\n",
       "    <tr>\n",
       "      <th>2</th>\n",
       "      <td>session_id_780253</td>\n",
       "      <td>user_id_156905</td>\n",
       "      <td>2021-07-31</td>\n",
       "      <td>07:50:23</td>\n",
       "      <td>Affiliate</td>\n",
       "      <td>campaign_name_741</td>\n",
       "      <td>notset</td>\n",
       "      <td>DE</td>\n",
       "      <td>0.022</td>\n",
       "    </tr>\n",
       "  </tbody>\n",
       "</table>\n",
       "</div>"
      ],
      "text/plain": [
       "          session_id         user_id  event_date event_time channel_name  \\\n",
       "0  session_id_660241  user_id_814496  2021-07-03   05:30:20    Affiliate   \n",
       "1    session_id_9812  user_id_752875  2021-07-19   16:00:40    Affiliate   \n",
       "2  session_id_780253  user_id_156905  2021-07-31   07:50:23    Affiliate   \n",
       "\n",
       "       campaign_name campaign_id market    cpc  \n",
       "0  campaign_name_716      notset     NL  0.018  \n",
       "1  campaign_name_108      notset     FR  0.000  \n",
       "2  campaign_name_741      notset     DE  0.022  "
      ]
     },
     "execution_count": 161,
     "metadata": {},
     "output_type": "execute_result"
    }
   ],
   "source": [
    "session_sources_df.head(3)"
   ]
  },
  {
   "cell_type": "code",
   "execution_count": 162,
   "metadata": {},
   "outputs": [
    {
     "data": {
      "text/html": [
       "<div>\n",
       "<style scoped>\n",
       "    .dataframe tbody tr th:only-of-type {\n",
       "        vertical-align: middle;\n",
       "    }\n",
       "\n",
       "    .dataframe tbody tr th {\n",
       "        vertical-align: top;\n",
       "    }\n",
       "\n",
       "    .dataframe thead th {\n",
       "        text-align: right;\n",
       "    }\n",
       "</style>\n",
       "<table border=\"1\" class=\"dataframe\">\n",
       "  <thead>\n",
       "    <tr style=\"text-align: right;\">\n",
       "      <th></th>\n",
       "      <th>session_id</th>\n",
       "      <th>user_id</th>\n",
       "      <th>event_date</th>\n",
       "      <th>event_time</th>\n",
       "      <th>channel_name</th>\n",
       "      <th>campaign_name</th>\n",
       "      <th>campaign_id</th>\n",
       "      <th>market</th>\n",
       "      <th>cpc</th>\n",
       "    </tr>\n",
       "  </thead>\n",
       "  <tbody>\n",
       "    <tr>\n",
       "      <th>count</th>\n",
       "      <td>1616702</td>\n",
       "      <td>1616702</td>\n",
       "      <td>1616702</td>\n",
       "      <td>1616702</td>\n",
       "      <td>1616702</td>\n",
       "      <td>1616702</td>\n",
       "      <td>1616702</td>\n",
       "      <td>1616702</td>\n",
       "      <td>1616702.0</td>\n",
       "    </tr>\n",
       "    <tr>\n",
       "      <th>unique</th>\n",
       "      <td>1616702</td>\n",
       "      <td>1153719</td>\n",
       "      <td>31</td>\n",
       "      <td>86248</td>\n",
       "      <td>28</td>\n",
       "      <td>1189</td>\n",
       "      <td>164</td>\n",
       "      <td>6</td>\n",
       "      <td></td>\n",
       "    </tr>\n",
       "    <tr>\n",
       "      <th>top</th>\n",
       "      <td>session_id_660241</td>\n",
       "      <td>user_id_970731</td>\n",
       "      <td>2021-07-04</td>\n",
       "      <td>00:00:00</td>\n",
       "      <td>SEO</td>\n",
       "      <td>campaign_name_741</td>\n",
       "      <td>notset</td>\n",
       "      <td>DE</td>\n",
       "      <td></td>\n",
       "    </tr>\n",
       "    <tr>\n",
       "      <th>freq</th>\n",
       "      <td>1</td>\n",
       "      <td>208</td>\n",
       "      <td>73342</td>\n",
       "      <td>308</td>\n",
       "      <td>310277</td>\n",
       "      <td>1095102</td>\n",
       "      <td>1088000</td>\n",
       "      <td>464209</td>\n",
       "      <td></td>\n",
       "    </tr>\n",
       "    <tr>\n",
       "      <th>mean</th>\n",
       "      <td></td>\n",
       "      <td></td>\n",
       "      <td></td>\n",
       "      <td></td>\n",
       "      <td></td>\n",
       "      <td></td>\n",
       "      <td></td>\n",
       "      <td></td>\n",
       "      <td>0.420779</td>\n",
       "    </tr>\n",
       "    <tr>\n",
       "      <th>std</th>\n",
       "      <td></td>\n",
       "      <td></td>\n",
       "      <td></td>\n",
       "      <td></td>\n",
       "      <td></td>\n",
       "      <td></td>\n",
       "      <td></td>\n",
       "      <td></td>\n",
       "      <td>1.057887</td>\n",
       "    </tr>\n",
       "    <tr>\n",
       "      <th>min</th>\n",
       "      <td></td>\n",
       "      <td></td>\n",
       "      <td></td>\n",
       "      <td></td>\n",
       "      <td></td>\n",
       "      <td></td>\n",
       "      <td></td>\n",
       "      <td></td>\n",
       "      <td>0.0</td>\n",
       "    </tr>\n",
       "    <tr>\n",
       "      <th>25%</th>\n",
       "      <td></td>\n",
       "      <td></td>\n",
       "      <td></td>\n",
       "      <td></td>\n",
       "      <td></td>\n",
       "      <td></td>\n",
       "      <td></td>\n",
       "      <td></td>\n",
       "      <td>0.0</td>\n",
       "    </tr>\n",
       "    <tr>\n",
       "      <th>50%</th>\n",
       "      <td></td>\n",
       "      <td></td>\n",
       "      <td></td>\n",
       "      <td></td>\n",
       "      <td></td>\n",
       "      <td></td>\n",
       "      <td></td>\n",
       "      <td></td>\n",
       "      <td>0.0</td>\n",
       "    </tr>\n",
       "    <tr>\n",
       "      <th>75%</th>\n",
       "      <td></td>\n",
       "      <td></td>\n",
       "      <td></td>\n",
       "      <td></td>\n",
       "      <td></td>\n",
       "      <td></td>\n",
       "      <td></td>\n",
       "      <td></td>\n",
       "      <td>0.688</td>\n",
       "    </tr>\n",
       "    <tr>\n",
       "      <th>max</th>\n",
       "      <td></td>\n",
       "      <td></td>\n",
       "      <td></td>\n",
       "      <td></td>\n",
       "      <td></td>\n",
       "      <td></td>\n",
       "      <td></td>\n",
       "      <td></td>\n",
       "      <td>441.25</td>\n",
       "    </tr>\n",
       "  </tbody>\n",
       "</table>\n",
       "</div>"
      ],
      "text/plain": [
       "               session_id         user_id  event_date event_time channel_name  \\\n",
       "count             1616702         1616702     1616702    1616702      1616702   \n",
       "unique            1616702         1153719          31      86248           28   \n",
       "top     session_id_660241  user_id_970731  2021-07-04   00:00:00          SEO   \n",
       "freq                    1             208       73342        308       310277   \n",
       "mean                                                                            \n",
       "std                                                                             \n",
       "min                                                                             \n",
       "25%                                                                             \n",
       "50%                                                                             \n",
       "75%                                                                             \n",
       "max                                                                             \n",
       "\n",
       "            campaign_name campaign_id   market        cpc  \n",
       "count             1616702     1616702  1616702  1616702.0  \n",
       "unique               1189         164        6             \n",
       "top     campaign_name_741      notset       DE             \n",
       "freq              1095102     1088000   464209             \n",
       "mean                                             0.420779  \n",
       "std                                              1.057887  \n",
       "min                                                   0.0  \n",
       "25%                                                   0.0  \n",
       "50%                                                   0.0  \n",
       "75%                                                 0.688  \n",
       "max                                                441.25  "
      ]
     },
     "execution_count": 162,
     "metadata": {},
     "output_type": "execute_result"
    }
   ],
   "source": [
    "session_sources_df.describe(include='all').fillna('')"
   ]
  },
  {
   "cell_type": "markdown",
   "metadata": {},
   "source": [
    "Let's check some of the columns"
   ]
  },
  {
   "cell_type": "code",
   "execution_count": 163,
   "metadata": {},
   "outputs": [
    {
     "data": {
      "text/plain": [
       "1473142             Social - Paid\n",
       "1176255    Shopping - Non-branded\n",
       "1546602               Social Paid\n",
       "Name: channel_name, dtype: object"
      ]
     },
     "execution_count": 163,
     "metadata": {},
     "output_type": "execute_result"
    }
   ],
   "source": [
    "# Channel name\n",
    "session_sources_df['channel_name'].sample(3)"
   ]
  },
  {
   "cell_type": "code",
   "execution_count": 164,
   "metadata": {},
   "outputs": [
    {
     "name": "stdout",
     "output_type": "stream",
     "text": [
      "There are 28 unique channels and they are below \n",
      " ['Affiliate' 'Affiliates' 'Content Marketing' 'Direct' 'Direct Traffic'\n",
      " 'Display' 'Display Remarketing' 'Email' 'Google Remarketing'\n",
      " 'Influencers' 'Referral' 'SEA (no tagging)' 'SEA - Brand' 'SEA - Branded'\n",
      " 'SEA - Non-Brand' 'SEA - Non-branded' 'SEO' 'Shopping - Brand'\n",
      " 'Shopping - Branded' 'Shopping - Non Brand' 'Shopping - Non-branded'\n",
      " 'Social - Organic' 'Social - Paid' 'Social Organic' 'Social Paid'\n",
      " 'Social Remarketing' 'Video Marketing' 'YouTube Video Ads']\n"
     ]
    }
   ],
   "source": [
    "print(f\"There are {len(session_sources_df['channel_name'].unique())} unique channels and they are below \\n {session_sources_df['channel_name'].unique()}\")"
   ]
  },
  {
   "cell_type": "code",
   "execution_count": 165,
   "metadata": {},
   "outputs": [
    {
     "data": {
      "text/plain": [
       "494762              notset\n",
       "1166516    campaign_id_149\n",
       "1560387             notset\n",
       "Name: campaign_id, dtype: object"
      ]
     },
     "execution_count": 165,
     "metadata": {},
     "output_type": "execute_result"
    }
   ],
   "source": [
    "# Campaign id\n",
    "session_sources_df['campaign_id'].sample(3)"
   ]
  },
  {
   "cell_type": "code",
   "execution_count": 166,
   "metadata": {},
   "outputs": [
    {
     "name": "stdout",
     "output_type": "stream",
     "text": [
      "There are 164 unique campaign ids\n"
     ]
    }
   ],
   "source": [
    "print(f\"There are {len(session_sources_df['campaign_id'].unique())} unique campaign ids\")"
   ]
  },
  {
   "cell_type": "markdown",
   "metadata": {},
   "source": [
    "We can see that one of the campaign ids are `notset`"
   ]
  },
  {
   "cell_type": "code",
   "execution_count": 167,
   "metadata": {},
   "outputs": [
    {
     "name": "stdout",
     "output_type": "stream",
     "text": [
      "There are 1088000 out of 1616702 sessions with campaign id notset\n"
     ]
    }
   ],
   "source": [
    "print(f\"There are {session_sources_df[session_sources_df['campaign_id']=='notset'].shape[0]} out of {session_sources_df['campaign_id'].shape[0]} sessions with campaign id notset\")"
   ]
  },
  {
   "cell_type": "code",
   "execution_count": 168,
   "metadata": {},
   "outputs": [
    {
     "data": {
      "text/plain": [
       "122940     GB\n",
       "1586267    FR\n",
       "871515     FR\n",
       "Name: market, dtype: object"
      ]
     },
     "execution_count": 168,
     "metadata": {},
     "output_type": "execute_result"
    }
   ],
   "source": [
    "# market\n",
    "session_sources_df['market'].sample(3)\n"
   ]
  },
  {
   "cell_type": "code",
   "execution_count": 169,
   "metadata": {},
   "outputs": [
    {
     "data": {
      "text/plain": [
       "array(['NL', 'FR', 'DE', 'GB', 'DK', 'EU'], dtype=object)"
      ]
     },
     "execution_count": 169,
     "metadata": {},
     "output_type": "execute_result"
    }
   ],
   "source": [
    "session_sources_df['market'].unique()"
   ]
  },
  {
   "cell_type": "code",
   "execution_count": 170,
   "metadata": {},
   "outputs": [
    {
     "name": "stdout",
     "output_type": "stream",
     "text": [
      "The min cpc is 0.0\n",
      "The max cpc is 441.25\n"
     ]
    }
   ],
   "source": [
    "# cpc\n",
    "session_sources_df['cpc'].sample(3)\n",
    "\n",
    "print(f\"The min cpc is {session_sources_df['cpc'].min()}\")\n",
    "print(f\"The max cpc is {session_sources_df['cpc'].max()}\")"
   ]
  },
  {
   "cell_type": "markdown",
   "metadata": {},
   "source": [
    "We can see that cpc is 0.0 in some cases. This could be traffic which did not require adwords and the customer visited the website on her on accord. The worst case scenario is that the data is missing for these sessions due to technical/human failure and cpc is set to 0.0."
   ]
  },
  {
   "cell_type": "markdown",
   "metadata": {},
   "source": [
    "### Attribution Customer Journey\n",
    "\n",
    "* conv_id: conversion identifier\n",
    "* session_id: session identifier that belonged in the customer journey of the given conv_id\n",
    "* ihc: 'value' of the given session in the given customer journey (1 = 100%)"
   ]
  },
  {
   "cell_type": "code",
   "execution_count": 171,
   "metadata": {},
   "outputs": [
    {
     "data": {
      "text/html": [
       "<div>\n",
       "<style scoped>\n",
       "    .dataframe tbody tr th:only-of-type {\n",
       "        vertical-align: middle;\n",
       "    }\n",
       "\n",
       "    .dataframe tbody tr th {\n",
       "        vertical-align: top;\n",
       "    }\n",
       "\n",
       "    .dataframe thead th {\n",
       "        text-align: right;\n",
       "    }\n",
       "</style>\n",
       "<table border=\"1\" class=\"dataframe\">\n",
       "  <thead>\n",
       "    <tr style=\"text-align: right;\">\n",
       "      <th></th>\n",
       "      <th>conv_id</th>\n",
       "      <th>session_id</th>\n",
       "      <th>ihc</th>\n",
       "    </tr>\n",
       "  </thead>\n",
       "  <tbody>\n",
       "    <tr>\n",
       "      <th>13649</th>\n",
       "      <td>conv_id_6203</td>\n",
       "      <td>session_id_1501592</td>\n",
       "      <td>0.000000</td>\n",
       "    </tr>\n",
       "    <tr>\n",
       "      <th>19546</th>\n",
       "      <td>conv_id_11526</td>\n",
       "      <td>session_id_56260</td>\n",
       "      <td>0.022205</td>\n",
       "    </tr>\n",
       "    <tr>\n",
       "      <th>19411</th>\n",
       "      <td>conv_id_6120</td>\n",
       "      <td>session_id_502863</td>\n",
       "      <td>0.442793</td>\n",
       "    </tr>\n",
       "  </tbody>\n",
       "</table>\n",
       "</div>"
      ],
      "text/plain": [
       "             conv_id          session_id       ihc\n",
       "13649   conv_id_6203  session_id_1501592  0.000000\n",
       "19546  conv_id_11526    session_id_56260  0.022205\n",
       "19411   conv_id_6120   session_id_502863  0.442793"
      ]
     },
     "execution_count": 171,
     "metadata": {},
     "output_type": "execute_result"
    }
   ],
   "source": [
    "attribution_customer_journey_df.sample(3)"
   ]
  },
  {
   "cell_type": "code",
   "execution_count": 172,
   "metadata": {},
   "outputs": [
    {
     "name": "stdout",
     "output_type": "stream",
     "text": [
      "Number of Conversions without corresponding sessions in attribution_customer_journey are 10076\n"
     ]
    }
   ],
   "source": [
    "# Get unique conv ids from conversions and attribution customer journey\n",
    "conversion_ids = set(conversions_df['conv_id'])\n",
    "attribution_conversion_ids = set(attribution_customer_journey_df['conv_id'])\n",
    "\n",
    "# Find conv_ids in conversions that are not in attribution_customer_journey\n",
    "missing_conv_ids = conversion_ids - attribution_conversion_ids\n",
    "\n",
    "# Check if there are any missing\n",
    "if missing_conv_ids:\n",
    "    print(f\"Number of Conversions without corresponding sessions in attribution_customer_journey are {len(missing_conv_ids)}\")\n",
    "else:\n",
    "    print(\"All conversions have corresponding sessions in attribution_customer_journey.\")"
   ]
  },
  {
   "cell_type": "markdown",
   "metadata": {},
   "source": [
    "This discrepancy can indicate potential data quality issue. This could be a result of data incompleteness or issues with data being recorded. Ideally, conversions in conversions table should be present in attribution customer journey table as well."
   ]
  },
  {
   "cell_type": "code",
   "execution_count": 173,
   "metadata": {},
   "outputs": [
    {
     "name": "stdout",
     "output_type": "stream",
     "text": [
      "All sessions in attribution_customer_journey are present in session_sources.\n"
     ]
    }
   ],
   "source": [
    "# Get unique session ids from attribution customer journey and session_sources\n",
    "attribution_session_ids = set(attribution_customer_journey_df['session_id'])\n",
    "session_ids = set(session_sources_df['session_id'])\n",
    "\n",
    "# Find session ids in attribution customer journey that are not in session sources\n",
    "missing_session_ids = attribution_session_ids - session_ids\n",
    "\n",
    "# Check if there are any missing convs\n",
    "if missing_session_ids:\n",
    "    print(f\"Number of sessions in attribution_customer_journey not found in session_sources {len(missing_session_ids)}\")\n",
    "else:\n",
    "    print(\"All sessions in attribution_customer_journey are present in session_sources.\")"
   ]
  },
  {
   "cell_type": "code",
   "execution_count": 174,
   "metadata": {},
   "outputs": [
    {
     "data": {
      "text/plain": [
       "14981    0.000000\n",
       "19507    1.000000\n",
       "10305    0.000000\n",
       "20446    0.167664\n",
       "19719    1.000000\n",
       "Name: ihc, dtype: float64"
      ]
     },
     "execution_count": 174,
     "metadata": {},
     "output_type": "execute_result"
    }
   ],
   "source": [
    "# ihc\n",
    "attribution_customer_journey_df['ihc'].sample(5)"
   ]
  },
  {
   "cell_type": "code",
   "execution_count": 175,
   "metadata": {},
   "outputs": [
    {
     "data": {
      "text/html": [
       "<div>\n",
       "<style scoped>\n",
       "    .dataframe tbody tr th:only-of-type {\n",
       "        vertical-align: middle;\n",
       "    }\n",
       "\n",
       "    .dataframe tbody tr th {\n",
       "        vertical-align: top;\n",
       "    }\n",
       "\n",
       "    .dataframe thead th {\n",
       "        text-align: right;\n",
       "    }\n",
       "</style>\n",
       "<table border=\"1\" class=\"dataframe\">\n",
       "  <thead>\n",
       "    <tr style=\"text-align: right;\">\n",
       "      <th></th>\n",
       "      <th>ihc</th>\n",
       "    </tr>\n",
       "    <tr>\n",
       "      <th>conv_id</th>\n",
       "      <th></th>\n",
       "    </tr>\n",
       "  </thead>\n",
       "  <tbody>\n",
       "    <tr>\n",
       "      <th>conv_id_13941</th>\n",
       "      <td>1.0</td>\n",
       "    </tr>\n",
       "    <tr>\n",
       "      <th>conv_id_5158</th>\n",
       "      <td>1.0</td>\n",
       "    </tr>\n",
       "    <tr>\n",
       "      <th>conv_id_14602</th>\n",
       "      <td>1.0</td>\n",
       "    </tr>\n",
       "    <tr>\n",
       "      <th>conv_id_17010</th>\n",
       "      <td>1.0</td>\n",
       "    </tr>\n",
       "    <tr>\n",
       "      <th>conv_id_3115</th>\n",
       "      <td>1.0</td>\n",
       "    </tr>\n",
       "  </tbody>\n",
       "</table>\n",
       "</div>"
      ],
      "text/plain": [
       "               ihc\n",
       "conv_id           \n",
       "conv_id_13941  1.0\n",
       "conv_id_5158   1.0\n",
       "conv_id_14602  1.0\n",
       "conv_id_17010  1.0\n",
       "conv_id_3115   1.0"
      ]
     },
     "execution_count": 175,
     "metadata": {},
     "output_type": "execute_result"
    }
   ],
   "source": [
    "grouped_attr = attribution_customer_journey_df.groupby(['conv_id']).sum(['ihc'])\n",
    "grouped_attr[grouped_attr['ihc']<1.0].sample(5)"
   ]
  },
  {
   "cell_type": "markdown",
   "metadata": {},
   "source": [
    "We can see that there are some conversions with less that 1 total ihc."
   ]
  },
  {
   "cell_type": "markdown",
   "metadata": {},
   "source": [
    "### API Adwords Costs\n",
    "\n",
    "* event_date: date when the AdWords campaign was running\n",
    "* campaign_id: campaign identifier\n",
    "* cost: amount that was spent on running this campaign on this day (assume its in Euro)\n",
    "* clicks: number of times a user clicked on this ad on the given day"
   ]
  },
  {
   "cell_type": "code",
   "execution_count": 176,
   "metadata": {},
   "outputs": [
    {
     "data": {
      "text/html": [
       "<div>\n",
       "<style scoped>\n",
       "    .dataframe tbody tr th:only-of-type {\n",
       "        vertical-align: middle;\n",
       "    }\n",
       "\n",
       "    .dataframe tbody tr th {\n",
       "        vertical-align: top;\n",
       "    }\n",
       "\n",
       "    .dataframe thead th {\n",
       "        text-align: right;\n",
       "    }\n",
       "</style>\n",
       "<table border=\"1\" class=\"dataframe\">\n",
       "  <thead>\n",
       "    <tr style=\"text-align: right;\">\n",
       "      <th></th>\n",
       "      <th>event_date</th>\n",
       "      <th>campaign_id</th>\n",
       "      <th>cost</th>\n",
       "      <th>clicks</th>\n",
       "    </tr>\n",
       "  </thead>\n",
       "  <tbody>\n",
       "    <tr>\n",
       "      <th>1259</th>\n",
       "      <td>2021-07-15</td>\n",
       "      <td>campaign_id_155</td>\n",
       "      <td>54.914</td>\n",
       "      <td>30</td>\n",
       "    </tr>\n",
       "    <tr>\n",
       "      <th>1994</th>\n",
       "      <td>2021-07-16</td>\n",
       "      <td>campaign_id_63</td>\n",
       "      <td>11.400</td>\n",
       "      <td>28</td>\n",
       "    </tr>\n",
       "    <tr>\n",
       "      <th>1286</th>\n",
       "      <td>2021-07-24</td>\n",
       "      <td>campaign_id_82</td>\n",
       "      <td>51.014</td>\n",
       "      <td>79</td>\n",
       "    </tr>\n",
       "  </tbody>\n",
       "</table>\n",
       "</div>"
      ],
      "text/plain": [
       "      event_date      campaign_id    cost  clicks\n",
       "1259  2021-07-15  campaign_id_155  54.914      30\n",
       "1994  2021-07-16   campaign_id_63  11.400      28\n",
       "1286  2021-07-24   campaign_id_82  51.014      79"
      ]
     },
     "execution_count": 176,
     "metadata": {},
     "output_type": "execute_result"
    }
   ],
   "source": [
    "api_adwords_costs_df.sample(3)"
   ]
  },
  {
   "cell_type": "code",
   "execution_count": 177,
   "metadata": {},
   "outputs": [
    {
     "name": "stdout",
     "output_type": "stream",
     "text": [
      "Most number of clicks - 7467\n",
      "Least number of clicks - 0\n"
     ]
    }
   ],
   "source": [
    "# Most/Least clicks\n",
    "print(f\"Most number of clicks - {api_adwords_costs_df['clicks'].max()}\")\n",
    "print(f\"Least number of clicks - {api_adwords_costs_df['clicks'].min()}\")"
   ]
  },
  {
   "cell_type": "markdown",
   "metadata": {},
   "source": [
    "We can see that the least number of clicks is 0. It is important to check these records with zero clicks."
   ]
  },
  {
   "cell_type": "code",
   "execution_count": 178,
   "metadata": {},
   "outputs": [
    {
     "data": {
      "text/html": [
       "<div>\n",
       "<style scoped>\n",
       "    .dataframe tbody tr th:only-of-type {\n",
       "        vertical-align: middle;\n",
       "    }\n",
       "\n",
       "    .dataframe tbody tr th {\n",
       "        vertical-align: top;\n",
       "    }\n",
       "\n",
       "    .dataframe thead th {\n",
       "        text-align: right;\n",
       "    }\n",
       "</style>\n",
       "<table border=\"1\" class=\"dataframe\">\n",
       "  <thead>\n",
       "    <tr style=\"text-align: right;\">\n",
       "      <th></th>\n",
       "      <th>event_date</th>\n",
       "      <th>campaign_id</th>\n",
       "      <th>cost</th>\n",
       "      <th>clicks</th>\n",
       "    </tr>\n",
       "  </thead>\n",
       "  <tbody>\n",
       "    <tr>\n",
       "      <th>2302</th>\n",
       "      <td>2021-07-02</td>\n",
       "      <td>campaign_id_156</td>\n",
       "      <td>7.031</td>\n",
       "      <td>0</td>\n",
       "    </tr>\n",
       "    <tr>\n",
       "      <th>2309</th>\n",
       "      <td>2021-07-17</td>\n",
       "      <td>campaign_id_94</td>\n",
       "      <td>6.975</td>\n",
       "      <td>0</td>\n",
       "    </tr>\n",
       "    <tr>\n",
       "      <th>2410</th>\n",
       "      <td>2021-07-11</td>\n",
       "      <td>campaign_id_94</td>\n",
       "      <td>5.976</td>\n",
       "      <td>0</td>\n",
       "    </tr>\n",
       "    <tr>\n",
       "      <th>2595</th>\n",
       "      <td>2021-07-04</td>\n",
       "      <td>campaign_id_94</td>\n",
       "      <td>3.908</td>\n",
       "      <td>0</td>\n",
       "    </tr>\n",
       "    <tr>\n",
       "      <th>2603</th>\n",
       "      <td>2021-07-05</td>\n",
       "      <td>campaign_id_156</td>\n",
       "      <td>3.816</td>\n",
       "      <td>0</td>\n",
       "    </tr>\n",
       "    <tr>\n",
       "      <th>2640</th>\n",
       "      <td>2021-07-10</td>\n",
       "      <td>campaign_id_94</td>\n",
       "      <td>3.458</td>\n",
       "      <td>0</td>\n",
       "    </tr>\n",
       "    <tr>\n",
       "      <th>2795</th>\n",
       "      <td>2021-07-01</td>\n",
       "      <td>campaign_id_7</td>\n",
       "      <td>1.844</td>\n",
       "      <td>0</td>\n",
       "    </tr>\n",
       "    <tr>\n",
       "      <th>2862</th>\n",
       "      <td>2021-07-20</td>\n",
       "      <td>campaign_id_94</td>\n",
       "      <td>1.368</td>\n",
       "      <td>0</td>\n",
       "    </tr>\n",
       "    <tr>\n",
       "      <th>2889</th>\n",
       "      <td>2021-07-09</td>\n",
       "      <td>campaign_id_7</td>\n",
       "      <td>1.108</td>\n",
       "      <td>0</td>\n",
       "    </tr>\n",
       "    <tr>\n",
       "      <th>2894</th>\n",
       "      <td>2021-07-20</td>\n",
       "      <td>campaign_id_7</td>\n",
       "      <td>1.067</td>\n",
       "      <td>0</td>\n",
       "    </tr>\n",
       "  </tbody>\n",
       "</table>\n",
       "</div>"
      ],
      "text/plain": [
       "      event_date      campaign_id   cost  clicks\n",
       "2302  2021-07-02  campaign_id_156  7.031       0\n",
       "2309  2021-07-17   campaign_id_94  6.975       0\n",
       "2410  2021-07-11   campaign_id_94  5.976       0\n",
       "2595  2021-07-04   campaign_id_94  3.908       0\n",
       "2603  2021-07-05  campaign_id_156  3.816       0\n",
       "2640  2021-07-10   campaign_id_94  3.458       0\n",
       "2795  2021-07-01    campaign_id_7  1.844       0\n",
       "2862  2021-07-20   campaign_id_94  1.368       0\n",
       "2889  2021-07-09    campaign_id_7  1.108       0\n",
       "2894  2021-07-20    campaign_id_7  1.067       0"
      ]
     },
     "execution_count": 178,
     "metadata": {},
     "output_type": "execute_result"
    }
   ],
   "source": [
    "# Check cost for 0 clicks for sanity check\n",
    "zero_click = api_adwords_costs_df[(api_adwords_costs_df['clicks']==0) & (api_adwords_costs_df['cost'] > 0.0)]\n",
    "zero_click"
   ]
  },
  {
   "cell_type": "markdown",
   "metadata": {},
   "source": [
    "It highly suspicious that there are costs involved for some campaigns but no recorded clicks. Now let's check if these campaign ids are present in session sources table or not."
   ]
  },
  {
   "cell_type": "code",
   "execution_count": 179,
   "metadata": {},
   "outputs": [
    {
     "name": "stdout",
     "output_type": "stream",
     "text": [
      "There are related sessions from session_sources_df\n"
     ]
    }
   ],
   "source": [
    "related_sessions = session_sources_df[session_sources_df['campaign_id'].isin(zero_click['campaign_id'].unique())]\n",
    "\n",
    "if not related_sessions.empty:\n",
    "    print(\"There are related sessions from session_sources_df\")\n",
    "else:\n",
    "    print(\"No related sessions found in session_sources_df for campaigns with non-zero costs and 0 clicks.\")"
   ]
  },
  {
   "cell_type": "code",
   "execution_count": 180,
   "metadata": {},
   "outputs": [
    {
     "name": "stdout",
     "output_type": "stream",
     "text": [
      "   event_date      campaign_id   cost  clicks  session_count  total_cpc\n",
      "0  2021-07-02  campaign_id_156  7.031       0             30     90.823\n",
      "1  2021-07-17   campaign_id_94  6.975       0             21     40.740\n",
      "2  2021-07-11   campaign_id_94  5.976       0             21     40.740\n",
      "3  2021-07-04   campaign_id_94  3.908       0             21     40.740\n",
      "4  2021-07-05  campaign_id_156  3.816       0             30     90.823\n",
      "5  2021-07-10   campaign_id_94  3.458       0             21     40.740\n",
      "6  2021-07-01    campaign_id_7  1.844       0            135    338.712\n",
      "7  2021-07-20   campaign_id_94  1.368       0             21     40.740\n",
      "8  2021-07-09    campaign_id_7  1.108       0            135    338.712\n",
      "9  2021-07-20    campaign_id_7  1.067       0            135    338.712\n"
     ]
    },
    {
     "data": {
      "image/png": "[encoded data removed]",
      "text/plain": [
       "<Figure size 1000x600 with 1 Axes>"
      ]
     },
     "metadata": {},
     "output_type": "display_data"
    }
   ],
   "source": [
    "# Group related sessions by campaign_id\n",
    "campaign_summary = related_sessions.groupby('campaign_id').agg(\n",
    "    session_count=('session_id', 'count'),\n",
    "    total_cpc=('cpc', 'sum')\n",
    ").reset_index()\n",
    "\n",
    "# Merge with zero_clicks_with_cost to see the cost and session relationship\n",
    "merged_data = zero_click.merge(campaign_summary, on='campaign_id', how='left')\n",
    "\n",
    "print(merged_data)\n",
    "\n",
    "# Visualize\n",
    "plt.figure(figsize=(10, 6))\n",
    "plt.bar(merged_data['campaign_id'], merged_data['cost'], color='blue', label='Cost')\n",
    "plt.bar(merged_data['campaign_id'], merged_data['total_cpc'], color='orange', label='Total CPC')\n",
    "plt.xlabel('Campaign ID')\n",
    "plt.ylabel('Amount in Euro')\n",
    "plt.title('Cost vs Total CPC for Campaigns with Zero Clicks')\n",
    "plt.legend()\n",
    "plt.show()"
   ]
  },
  {
   "cell_type": "markdown",
   "metadata": {},
   "source": [
    "This bar plot shows campaign ids with associated cost (from api_adwords_costs) and total cpc (from sessions sources). Of course, for these campaign ids the cost is zero and ironically, the total cpcs are non-zero."
   ]
  },
  {
   "cell_type": "markdown",
   "metadata": {},
   "source": []
  }
 ],
 "metadata": {
  "kernelspec": {
   "display_name": "personalchatbot",
   "language": "python",
   "name": "python3"
  },
  "language_info": {
   "codemirror_mode": {
    "name": "ipython",
    "version": 3
   },
   "file_extension": ".py",
   "mimetype": "text/x-python",
   "name": "python",
   "nbconvert_exporter": "python",
   "pygments_lexer": "ipython3",
   "version": "3.12.3"
  }
 },
 "nbformat": 4,
 "nbformat_minor": 2
}
