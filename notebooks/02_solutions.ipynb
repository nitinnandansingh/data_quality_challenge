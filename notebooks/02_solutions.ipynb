{
 "cells": [
  {
   "cell_type": "markdown",
   "metadata": {},
   "source": [
    "# Questions\n",
    "\n",
    "1. Are the costs in the 'api_adwords_costs' table fully covered in the 'session_sources' table? Any campaigns where you see issues?\n",
    "\n",
    "2. Are the conversions in the 'conversions' table stable over time? Any pattern?\n",
    "\n",
    "3. Double check conversions ('conversions' table) with backend ('conversions_backend' table), any issues?\n",
    "\n",
    "4. Are attribution results consistent? Do you find any conversions where the 'ihc' values don't make sense?\n",
    "\n",
    "5. (Bonus) Do we have an issue with channeling? Are the number of sessions per channel stable over time?\n",
    "\n",
    "6. (Bonus) Any other issues?\n"
   ]
  },
  {
   "cell_type": "markdown",
   "metadata": {},
   "source": [
    "## Imports"
   ]
  },
  {
   "cell_type": "code",
   "execution_count": 338,
   "metadata": {},
   "outputs": [],
   "source": [
    "import sqlite3\n",
    "import pandas as pd\n",
    "import os\n",
    "import numpy as np\n",
    "import matplotlib.pyplot as plt\n"
   ]
  },
  {
   "cell_type": "markdown",
   "metadata": {},
   "source": [
    "## Initialisations"
   ]
  },
  {
   "cell_type": "code",
   "execution_count": 339,
   "metadata": {},
   "outputs": [],
   "source": [
    "## Initialise paths\n",
    "db_path = os.path.join('../', 'challenge.db')\n"
   ]
  },
  {
   "cell_type": "markdown",
   "metadata": {},
   "source": [
    "## Connect to the db"
   ]
  },
  {
   "cell_type": "code",
   "execution_count": 340,
   "metadata": {},
   "outputs": [],
   "source": [
    "conn  = sqlite3.connect(db_path)"
   ]
  },
  {
   "cell_type": "markdown",
   "metadata": {},
   "source": [
    "## Fetch data from db"
   ]
  },
  {
   "cell_type": "code",
   "execution_count": 341,
   "metadata": {},
   "outputs": [],
   "source": [
    "# Query the db\n",
    "tables_list = ['conversions', 'session_sources', 'conversions_backend', 'api_adwords_costs', 'attribution_customer_journey']\n",
    "dataframes = {}\n",
    "for table in tables_list:\n",
    "    query = f\"SELECT * FROM {table}\"\n",
    "    df_name = f\"{table}_df\"\n",
    "    dataframes[df_name] = pd.read_sql_query(query, conn)\n",
    "\n",
    "# Close db connnection    \n",
    "conn.close()"
   ]
  },
  {
   "cell_type": "code",
   "execution_count": 342,
   "metadata": {},
   "outputs": [],
   "source": [
    "# Create dataframes for each table\n",
    "conversions_df = dataframes['conversions_df']\n",
    "session_sources_df = dataframes['session_sources_df']\n",
    "conversions_backend_df = dataframes['conversions_backend_df']\n",
    "api_adwords_costs_df = dataframes['api_adwords_costs_df']\n",
    "attribution_customer_journey_df = dataframes['attribution_customer_journey_df']"
   ]
  },
  {
   "cell_type": "markdown",
   "metadata": {},
   "source": [
    "### Question 1: \n",
    "\n",
    "#### Are the costs in the ‘api_adwords_costs’ table fully covered in the ‘session_sources’ table? Any campaigns where you see issues?"
   ]
  },
  {
   "cell_type": "code",
   "execution_count": 343,
   "metadata": {},
   "outputs": [
    {
     "name": "stdout",
     "output_type": "stream",
     "text": [
      "(2987, 4)\n"
     ]
    },
    {
     "data": {
      "text/html": [
       "<div>\n",
       "<style scoped>\n",
       "    .dataframe tbody tr th:only-of-type {\n",
       "        vertical-align: middle;\n",
       "    }\n",
       "\n",
       "    .dataframe tbody tr th {\n",
       "        vertical-align: top;\n",
       "    }\n",
       "\n",
       "    .dataframe thead th {\n",
       "        text-align: right;\n",
       "    }\n",
       "</style>\n",
       "<table border=\"1\" class=\"dataframe\">\n",
       "  <thead>\n",
       "    <tr style=\"text-align: right;\">\n",
       "      <th></th>\n",
       "      <th>event_date</th>\n",
       "      <th>campaign_id</th>\n",
       "      <th>cost</th>\n",
       "      <th>clicks</th>\n",
       "    </tr>\n",
       "  </thead>\n",
       "  <tbody>\n",
       "    <tr>\n",
       "      <th>0</th>\n",
       "      <td>2021-07-04</td>\n",
       "      <td>campaign_id_149</td>\n",
       "      <td>3554.289</td>\n",
       "      <td>5256</td>\n",
       "    </tr>\n",
       "    <tr>\n",
       "      <th>1</th>\n",
       "      <td>2021-07-03</td>\n",
       "      <td>campaign_id_149</td>\n",
       "      <td>3021.879</td>\n",
       "      <td>6180</td>\n",
       "    </tr>\n",
       "    <tr>\n",
       "      <th>2</th>\n",
       "      <td>2021-07-01</td>\n",
       "      <td>campaign_id_149</td>\n",
       "      <td>2986.968</td>\n",
       "      <td>7467</td>\n",
       "    </tr>\n",
       "  </tbody>\n",
       "</table>\n",
       "</div>"
      ],
      "text/plain": [
       "   event_date      campaign_id      cost  clicks\n",
       "0  2021-07-04  campaign_id_149  3554.289    5256\n",
       "1  2021-07-03  campaign_id_149  3021.879    6180\n",
       "2  2021-07-01  campaign_id_149  2986.968    7467"
      ]
     },
     "execution_count": 343,
     "metadata": {},
     "output_type": "execute_result"
    }
   ],
   "source": [
    "# Check the api_adwords_costs_df records\n",
    "print(api_adwords_costs_df.shape)\n",
    "api_adwords_costs_df.head(3)"
   ]
  },
  {
   "cell_type": "code",
   "execution_count": 344,
   "metadata": {},
   "outputs": [
    {
     "name": "stdout",
     "output_type": "stream",
     "text": [
      "(1616702, 9)\n"
     ]
    },
    {
     "data": {
      "text/html": [
       "<div>\n",
       "<style scoped>\n",
       "    .dataframe tbody tr th:only-of-type {\n",
       "        vertical-align: middle;\n",
       "    }\n",
       "\n",
       "    .dataframe tbody tr th {\n",
       "        vertical-align: top;\n",
       "    }\n",
       "\n",
       "    .dataframe thead th {\n",
       "        text-align: right;\n",
       "    }\n",
       "</style>\n",
       "<table border=\"1\" class=\"dataframe\">\n",
       "  <thead>\n",
       "    <tr style=\"text-align: right;\">\n",
       "      <th></th>\n",
       "      <th>session_id</th>\n",
       "      <th>user_id</th>\n",
       "      <th>event_date</th>\n",
       "      <th>event_time</th>\n",
       "      <th>channel_name</th>\n",
       "      <th>campaign_name</th>\n",
       "      <th>campaign_id</th>\n",
       "      <th>market</th>\n",
       "      <th>cpc</th>\n",
       "    </tr>\n",
       "  </thead>\n",
       "  <tbody>\n",
       "    <tr>\n",
       "      <th>0</th>\n",
       "      <td>session_id_660241</td>\n",
       "      <td>user_id_814496</td>\n",
       "      <td>2021-07-03</td>\n",
       "      <td>05:30:20</td>\n",
       "      <td>Affiliate</td>\n",
       "      <td>campaign_name_716</td>\n",
       "      <td>notset</td>\n",
       "      <td>NL</td>\n",
       "      <td>0.018</td>\n",
       "    </tr>\n",
       "    <tr>\n",
       "      <th>1</th>\n",
       "      <td>session_id_9812</td>\n",
       "      <td>user_id_752875</td>\n",
       "      <td>2021-07-19</td>\n",
       "      <td>16:00:40</td>\n",
       "      <td>Affiliate</td>\n",
       "      <td>campaign_name_108</td>\n",
       "      <td>notset</td>\n",
       "      <td>FR</td>\n",
       "      <td>0.000</td>\n",
       "    </tr>\n",
       "    <tr>\n",
       "      <th>2</th>\n",
       "      <td>session_id_780253</td>\n",
       "      <td>user_id_156905</td>\n",
       "      <td>2021-07-31</td>\n",
       "      <td>07:50:23</td>\n",
       "      <td>Affiliate</td>\n",
       "      <td>campaign_name_741</td>\n",
       "      <td>notset</td>\n",
       "      <td>DE</td>\n",
       "      <td>0.022</td>\n",
       "    </tr>\n",
       "  </tbody>\n",
       "</table>\n",
       "</div>"
      ],
      "text/plain": [
       "          session_id         user_id  event_date event_time channel_name  \\\n",
       "0  session_id_660241  user_id_814496  2021-07-03   05:30:20    Affiliate   \n",
       "1    session_id_9812  user_id_752875  2021-07-19   16:00:40    Affiliate   \n",
       "2  session_id_780253  user_id_156905  2021-07-31   07:50:23    Affiliate   \n",
       "\n",
       "       campaign_name campaign_id market    cpc  \n",
       "0  campaign_name_716      notset     NL  0.018  \n",
       "1  campaign_name_108      notset     FR  0.000  \n",
       "2  campaign_name_741      notset     DE  0.022  "
      ]
     },
     "execution_count": 344,
     "metadata": {},
     "output_type": "execute_result"
    }
   ],
   "source": [
    "# Check the session_sources_df records\n",
    "print(session_sources_df.shape)\n",
    "session_sources_df.head(3)"
   ]
  },
  {
   "cell_type": "code",
   "execution_count": 345,
   "metadata": {},
   "outputs": [
    {
     "name": "stdout",
     "output_type": "stream",
     "text": [
      "(2987, 3)\n"
     ]
    },
    {
     "data": {
      "text/html": [
       "<div>\n",
       "<style scoped>\n",
       "    .dataframe tbody tr th:only-of-type {\n",
       "        vertical-align: middle;\n",
       "    }\n",
       "\n",
       "    .dataframe tbody tr th {\n",
       "        vertical-align: top;\n",
       "    }\n",
       "\n",
       "    .dataframe thead th {\n",
       "        text-align: right;\n",
       "    }\n",
       "</style>\n",
       "<table border=\"1\" class=\"dataframe\">\n",
       "  <thead>\n",
       "    <tr style=\"text-align: right;\">\n",
       "      <th></th>\n",
       "      <th>event_date</th>\n",
       "      <th>campaign_id</th>\n",
       "      <th>total_cost</th>\n",
       "    </tr>\n",
       "  </thead>\n",
       "  <tbody>\n",
       "    <tr>\n",
       "      <th>0</th>\n",
       "      <td>2021-07-01</td>\n",
       "      <td>campaign_id_10</td>\n",
       "      <td>292.73</td>\n",
       "    </tr>\n",
       "    <tr>\n",
       "      <th>1</th>\n",
       "      <td>2021-07-01</td>\n",
       "      <td>campaign_id_100</td>\n",
       "      <td>11.57</td>\n",
       "    </tr>\n",
       "    <tr>\n",
       "      <th>2</th>\n",
       "      <td>2021-07-01</td>\n",
       "      <td>campaign_id_101</td>\n",
       "      <td>8.90</td>\n",
       "    </tr>\n",
       "  </tbody>\n",
       "</table>\n",
       "</div>"
      ],
      "text/plain": [
       "   event_date      campaign_id  total_cost\n",
       "0  2021-07-01   campaign_id_10      292.73\n",
       "1  2021-07-01  campaign_id_100       11.57\n",
       "2  2021-07-01  campaign_id_101        8.90"
      ]
     },
     "execution_count": 345,
     "metadata": {},
     "output_type": "execute_result"
    }
   ],
   "source": [
    "# Group the api_adwords_costs_df data by event date and campaign id and take the sum of cost\n",
    "\n",
    "api_adwords_costs_agg = api_adwords_costs_df.groupby(['event_date', 'campaign_id']).agg(\n",
    "    total_cost=('cost', 'sum')).reset_index()\n",
    "print(api_adwords_costs_agg.shape)\n",
    "api_adwords_costs_agg.head(3)"
   ]
  },
  {
   "cell_type": "code",
   "execution_count": 346,
   "metadata": {},
   "outputs": [
    {
     "name": "stdout",
     "output_type": "stream",
     "text": [
      "(3537, 3)\n"
     ]
    },
    {
     "data": {
      "text/html": [
       "<div>\n",
       "<style scoped>\n",
       "    .dataframe tbody tr th:only-of-type {\n",
       "        vertical-align: middle;\n",
       "    }\n",
       "\n",
       "    .dataframe tbody tr th {\n",
       "        vertical-align: top;\n",
       "    }\n",
       "\n",
       "    .dataframe thead th {\n",
       "        text-align: right;\n",
       "    }\n",
       "</style>\n",
       "<table border=\"1\" class=\"dataframe\">\n",
       "  <thead>\n",
       "    <tr style=\"text-align: right;\">\n",
       "      <th></th>\n",
       "      <th>event_date</th>\n",
       "      <th>campaign_id</th>\n",
       "      <th>total_cpc</th>\n",
       "    </tr>\n",
       "  </thead>\n",
       "  <tbody>\n",
       "    <tr>\n",
       "      <th>0</th>\n",
       "      <td>2021-07-01</td>\n",
       "      <td>campaign_id_1</td>\n",
       "      <td>0.000</td>\n",
       "    </tr>\n",
       "    <tr>\n",
       "      <th>1</th>\n",
       "      <td>2021-07-01</td>\n",
       "      <td>campaign_id_10</td>\n",
       "      <td>292.807</td>\n",
       "    </tr>\n",
       "    <tr>\n",
       "      <th>2</th>\n",
       "      <td>2021-07-01</td>\n",
       "      <td>campaign_id_100</td>\n",
       "      <td>11.572</td>\n",
       "    </tr>\n",
       "  </tbody>\n",
       "</table>\n",
       "</div>"
      ],
      "text/plain": [
       "   event_date      campaign_id  total_cpc\n",
       "0  2021-07-01    campaign_id_1      0.000\n",
       "1  2021-07-01   campaign_id_10    292.807\n",
       "2  2021-07-01  campaign_id_100     11.572"
      ]
     },
     "execution_count": 346,
     "metadata": {},
     "output_type": "execute_result"
    }
   ],
   "source": [
    "# Group the session_sources_df data by event date and campaign id and take the sum of cpc\n",
    "\n",
    "session_sources_agg = session_sources_df.groupby(['event_date', 'campaign_id']).agg(\n",
    "    total_cpc=('cpc', 'sum')).reset_index()\n",
    "print(session_sources_agg.shape)\n",
    "session_sources_agg.head(3)"
   ]
  },
  {
   "cell_type": "code",
   "execution_count": 347,
   "metadata": {},
   "outputs": [
    {
     "name": "stdout",
     "output_type": "stream",
     "text": [
      "(2987, 4)\n"
     ]
    },
    {
     "data": {
      "text/html": [
       "<div>\n",
       "<style scoped>\n",
       "    .dataframe tbody tr th:only-of-type {\n",
       "        vertical-align: middle;\n",
       "    }\n",
       "\n",
       "    .dataframe tbody tr th {\n",
       "        vertical-align: top;\n",
       "    }\n",
       "\n",
       "    .dataframe thead th {\n",
       "        text-align: right;\n",
       "    }\n",
       "</style>\n",
       "<table border=\"1\" class=\"dataframe\">\n",
       "  <thead>\n",
       "    <tr style=\"text-align: right;\">\n",
       "      <th></th>\n",
       "      <th>event_date</th>\n",
       "      <th>campaign_id</th>\n",
       "      <th>total_cost</th>\n",
       "      <th>total_cpc</th>\n",
       "    </tr>\n",
       "  </thead>\n",
       "  <tbody>\n",
       "    <tr>\n",
       "      <th>0</th>\n",
       "      <td>2021-07-01</td>\n",
       "      <td>campaign_id_10</td>\n",
       "      <td>292.73</td>\n",
       "      <td>292.807</td>\n",
       "    </tr>\n",
       "    <tr>\n",
       "      <th>1</th>\n",
       "      <td>2021-07-01</td>\n",
       "      <td>campaign_id_100</td>\n",
       "      <td>11.57</td>\n",
       "      <td>11.572</td>\n",
       "    </tr>\n",
       "    <tr>\n",
       "      <th>2</th>\n",
       "      <td>2021-07-01</td>\n",
       "      <td>campaign_id_101</td>\n",
       "      <td>8.90</td>\n",
       "      <td>8.899</td>\n",
       "    </tr>\n",
       "    <tr>\n",
       "      <th>3</th>\n",
       "      <td>2021-07-01</td>\n",
       "      <td>campaign_id_103</td>\n",
       "      <td>6.01</td>\n",
       "      <td>5.460</td>\n",
       "    </tr>\n",
       "    <tr>\n",
       "      <th>4</th>\n",
       "      <td>2021-07-01</td>\n",
       "      <td>campaign_id_106</td>\n",
       "      <td>62.66</td>\n",
       "      <td>62.672</td>\n",
       "    </tr>\n",
       "  </tbody>\n",
       "</table>\n",
       "</div>"
      ],
      "text/plain": [
       "   event_date      campaign_id  total_cost  total_cpc\n",
       "0  2021-07-01   campaign_id_10      292.73    292.807\n",
       "1  2021-07-01  campaign_id_100       11.57     11.572\n",
       "2  2021-07-01  campaign_id_101        8.90      8.899\n",
       "3  2021-07-01  campaign_id_103        6.01      5.460\n",
       "4  2021-07-01  campaign_id_106       62.66     62.672"
      ]
     },
     "execution_count": 347,
     "metadata": {},
     "output_type": "execute_result"
    }
   ],
   "source": [
    "# Merge the two dataframes so that we can compare the costs\n",
    "cost_coverage = pd.merge(api_adwords_costs_agg, session_sources_agg, on=['event_date', 'campaign_id'], how='left', suffixes=('_adwords', '_session'))\n",
    "print(cost_coverage.shape)\n",
    "cost_coverage.head()"
   ]
  },
  {
   "cell_type": "code",
   "execution_count": 348,
   "metadata": {},
   "outputs": [
    {
     "data": {
      "text/plain": [
       "event_date      0\n",
       "campaign_id     0\n",
       "total_cost      0\n",
       "total_cpc      79\n",
       "dtype: int64"
      ]
     },
     "execution_count": 348,
     "metadata": {},
     "output_type": "execute_result"
    }
   ],
   "source": [
    "# Check if there are any null values\n",
    "cost_coverage.isnull().sum()"
   ]
  },
  {
   "cell_type": "code",
   "execution_count": 349,
   "metadata": {},
   "outputs": [
    {
     "data": {
      "text/html": [
       "<div>\n",
       "<style scoped>\n",
       "    .dataframe tbody tr th:only-of-type {\n",
       "        vertical-align: middle;\n",
       "    }\n",
       "\n",
       "    .dataframe tbody tr th {\n",
       "        vertical-align: top;\n",
       "    }\n",
       "\n",
       "    .dataframe thead th {\n",
       "        text-align: right;\n",
       "    }\n",
       "</style>\n",
       "<table border=\"1\" class=\"dataframe\">\n",
       "  <thead>\n",
       "    <tr style=\"text-align: right;\">\n",
       "      <th></th>\n",
       "      <th>event_date</th>\n",
       "      <th>campaign_id</th>\n",
       "      <th>total_cost</th>\n",
       "      <th>total_cpc</th>\n",
       "    </tr>\n",
       "  </thead>\n",
       "  <tbody>\n",
       "    <tr>\n",
       "      <th>12</th>\n",
       "      <td>2021-07-01</td>\n",
       "      <td>campaign_id_121</td>\n",
       "      <td>2.250</td>\n",
       "      <td>NaN</td>\n",
       "    </tr>\n",
       "    <tr>\n",
       "      <th>81</th>\n",
       "      <td>2021-07-01</td>\n",
       "      <td>campaign_id_7</td>\n",
       "      <td>1.844</td>\n",
       "      <td>NaN</td>\n",
       "    </tr>\n",
       "    <tr>\n",
       "      <th>102</th>\n",
       "      <td>2021-07-01</td>\n",
       "      <td>campaign_id_97</td>\n",
       "      <td>7.820</td>\n",
       "      <td>NaN</td>\n",
       "    </tr>\n",
       "    <tr>\n",
       "      <th>116</th>\n",
       "      <td>2021-07-02</td>\n",
       "      <td>campaign_id_121</td>\n",
       "      <td>8.390</td>\n",
       "      <td>NaN</td>\n",
       "    </tr>\n",
       "    <tr>\n",
       "      <th>138</th>\n",
       "      <td>2021-07-02</td>\n",
       "      <td>campaign_id_156</td>\n",
       "      <td>7.031</td>\n",
       "      <td>NaN</td>\n",
       "    </tr>\n",
       "    <tr>\n",
       "      <th>...</th>\n",
       "      <td>...</td>\n",
       "      <td>...</td>\n",
       "      <td>...</td>\n",
       "      <td>...</td>\n",
       "    </tr>\n",
       "    <tr>\n",
       "      <th>2808</th>\n",
       "      <td>2021-07-29</td>\n",
       "      <td>campaign_id_97</td>\n",
       "      <td>4.940</td>\n",
       "      <td>NaN</td>\n",
       "    </tr>\n",
       "    <tr>\n",
       "      <th>2819</th>\n",
       "      <td>2021-07-30</td>\n",
       "      <td>campaign_id_121</td>\n",
       "      <td>9.710</td>\n",
       "      <td>NaN</td>\n",
       "    </tr>\n",
       "    <tr>\n",
       "      <th>2897</th>\n",
       "      <td>2021-07-30</td>\n",
       "      <td>campaign_id_97</td>\n",
       "      <td>15.750</td>\n",
       "      <td>NaN</td>\n",
       "    </tr>\n",
       "    <tr>\n",
       "      <th>2908</th>\n",
       "      <td>2021-07-31</td>\n",
       "      <td>campaign_id_121</td>\n",
       "      <td>8.750</td>\n",
       "      <td>NaN</td>\n",
       "    </tr>\n",
       "    <tr>\n",
       "      <th>2986</th>\n",
       "      <td>2021-07-31</td>\n",
       "      <td>campaign_id_97</td>\n",
       "      <td>9.450</td>\n",
       "      <td>NaN</td>\n",
       "    </tr>\n",
       "  </tbody>\n",
       "</table>\n",
       "<p>79 rows × 4 columns</p>\n",
       "</div>"
      ],
      "text/plain": [
       "      event_date      campaign_id  total_cost  total_cpc\n",
       "12    2021-07-01  campaign_id_121       2.250        NaN\n",
       "81    2021-07-01    campaign_id_7       1.844        NaN\n",
       "102   2021-07-01   campaign_id_97       7.820        NaN\n",
       "116   2021-07-02  campaign_id_121       8.390        NaN\n",
       "138   2021-07-02  campaign_id_156       7.031        NaN\n",
       "...          ...              ...         ...        ...\n",
       "2808  2021-07-29   campaign_id_97       4.940        NaN\n",
       "2819  2021-07-30  campaign_id_121       9.710        NaN\n",
       "2897  2021-07-30   campaign_id_97      15.750        NaN\n",
       "2908  2021-07-31  campaign_id_121       8.750        NaN\n",
       "2986  2021-07-31   campaign_id_97       9.450        NaN\n",
       "\n",
       "[79 rows x 4 columns]"
      ]
     },
     "execution_count": 349,
     "metadata": {},
     "output_type": "execute_result"
    }
   ],
   "source": [
    "# Where are the null values?\n",
    "cost_coverage[cost_coverage['total_cpc'].isna()]"
   ]
  },
  {
   "cell_type": "code",
   "execution_count": 350,
   "metadata": {},
   "outputs": [],
   "source": [
    "# Fill null values with 0\n",
    "cost_coverage['total_cpc'].fillna(0, inplace=True)"
   ]
  },
  {
   "cell_type": "code",
   "execution_count": 351,
   "metadata": {},
   "outputs": [
    {
     "data": {
      "text/html": [
       "<div>\n",
       "<style scoped>\n",
       "    .dataframe tbody tr th:only-of-type {\n",
       "        vertical-align: middle;\n",
       "    }\n",
       "\n",
       "    .dataframe tbody tr th {\n",
       "        vertical-align: top;\n",
       "    }\n",
       "\n",
       "    .dataframe thead th {\n",
       "        text-align: right;\n",
       "    }\n",
       "</style>\n",
       "<table border=\"1\" class=\"dataframe\">\n",
       "  <thead>\n",
       "    <tr style=\"text-align: right;\">\n",
       "      <th></th>\n",
       "      <th>event_date</th>\n",
       "      <th>campaign_id</th>\n",
       "      <th>total_cost</th>\n",
       "      <th>total_cpc</th>\n",
       "      <th>cost_difference</th>\n",
       "    </tr>\n",
       "  </thead>\n",
       "  <tbody>\n",
       "    <tr>\n",
       "      <th>0</th>\n",
       "      <td>2021-07-01</td>\n",
       "      <td>campaign_id_10</td>\n",
       "      <td>292.73</td>\n",
       "      <td>292.807</td>\n",
       "      <td>0.077</td>\n",
       "    </tr>\n",
       "    <tr>\n",
       "      <th>1</th>\n",
       "      <td>2021-07-01</td>\n",
       "      <td>campaign_id_100</td>\n",
       "      <td>11.57</td>\n",
       "      <td>11.572</td>\n",
       "      <td>0.002</td>\n",
       "    </tr>\n",
       "    <tr>\n",
       "      <th>2</th>\n",
       "      <td>2021-07-01</td>\n",
       "      <td>campaign_id_101</td>\n",
       "      <td>8.90</td>\n",
       "      <td>8.899</td>\n",
       "      <td>0.001</td>\n",
       "    </tr>\n",
       "    <tr>\n",
       "      <th>3</th>\n",
       "      <td>2021-07-01</td>\n",
       "      <td>campaign_id_103</td>\n",
       "      <td>6.01</td>\n",
       "      <td>5.460</td>\n",
       "      <td>0.550</td>\n",
       "    </tr>\n",
       "    <tr>\n",
       "      <th>4</th>\n",
       "      <td>2021-07-01</td>\n",
       "      <td>campaign_id_106</td>\n",
       "      <td>62.66</td>\n",
       "      <td>62.672</td>\n",
       "      <td>0.012</td>\n",
       "    </tr>\n",
       "  </tbody>\n",
       "</table>\n",
       "</div>"
      ],
      "text/plain": [
       "   event_date      campaign_id  total_cost  total_cpc  cost_difference\n",
       "0  2021-07-01   campaign_id_10      292.73    292.807            0.077\n",
       "1  2021-07-01  campaign_id_100       11.57     11.572            0.002\n",
       "2  2021-07-01  campaign_id_101        8.90      8.899            0.001\n",
       "3  2021-07-01  campaign_id_103        6.01      5.460            0.550\n",
       "4  2021-07-01  campaign_id_106       62.66     62.672            0.012"
      ]
     },
     "execution_count": 351,
     "metadata": {},
     "output_type": "execute_result"
    }
   ],
   "source": [
    "# Check for any cost difference\n",
    "cost_coverage['cost_difference'] = abs(cost_coverage['total_cost'] - cost_coverage['total_cpc'])\n",
    "discrepancies = cost_coverage[(cost_coverage['cost_difference']) != 0]\n",
    "discrepancies.head()"
   ]
  },
  {
   "cell_type": "code",
   "execution_count": 352,
   "metadata": {},
   "outputs": [
    {
     "name": "stdout",
     "output_type": "stream",
     "text": [
      "Number of campaigns with cost discrepancies are 2532\n"
     ]
    }
   ],
   "source": [
    "if not discrepancies.empty:\n",
    "    print(f\"Number of campaigns with cost discrepancies are {discrepancies.shape[0]}\")\n",
    "else:\n",
    "    print(\"All costs are fully covered in the session sources.\")"
   ]
  },
  {
   "cell_type": "code",
   "execution_count": 353,
   "metadata": {},
   "outputs": [
    {
     "data": {
      "text/html": [
       "<div>\n",
       "<style scoped>\n",
       "    .dataframe tbody tr th:only-of-type {\n",
       "        vertical-align: middle;\n",
       "    }\n",
       "\n",
       "    .dataframe tbody tr th {\n",
       "        vertical-align: top;\n",
       "    }\n",
       "\n",
       "    .dataframe thead th {\n",
       "        text-align: right;\n",
       "    }\n",
       "</style>\n",
       "<table border=\"1\" class=\"dataframe\">\n",
       "  <thead>\n",
       "    <tr style=\"text-align: right;\">\n",
       "      <th></th>\n",
       "      <th>event_date</th>\n",
       "      <th>campaign_id</th>\n",
       "      <th>total_cost</th>\n",
       "      <th>total_cpc</th>\n",
       "      <th>cost_difference</th>\n",
       "    </tr>\n",
       "  </thead>\n",
       "  <tbody>\n",
       "    <tr>\n",
       "      <th>89</th>\n",
       "      <td>2021-07-01</td>\n",
       "      <td>campaign_id_79</td>\n",
       "      <td>584.017</td>\n",
       "      <td>0.0</td>\n",
       "      <td>584.017</td>\n",
       "    </tr>\n",
       "    <tr>\n",
       "      <th>1299</th>\n",
       "      <td>2021-07-13</td>\n",
       "      <td>campaign_id_79</td>\n",
       "      <td>500.650</td>\n",
       "      <td>0.0</td>\n",
       "      <td>500.650</td>\n",
       "    </tr>\n",
       "    <tr>\n",
       "      <th>1098</th>\n",
       "      <td>2021-07-11</td>\n",
       "      <td>campaign_id_79</td>\n",
       "      <td>489.728</td>\n",
       "      <td>0.0</td>\n",
       "      <td>489.728</td>\n",
       "    </tr>\n",
       "    <tr>\n",
       "      <th>1199</th>\n",
       "      <td>2021-07-12</td>\n",
       "      <td>campaign_id_79</td>\n",
       "      <td>487.640</td>\n",
       "      <td>0.0</td>\n",
       "      <td>487.640</td>\n",
       "    </tr>\n",
       "    <tr>\n",
       "      <th>397</th>\n",
       "      <td>2021-07-04</td>\n",
       "      <td>campaign_id_79</td>\n",
       "      <td>474.387</td>\n",
       "      <td>0.0</td>\n",
       "      <td>474.387</td>\n",
       "    </tr>\n",
       "    <tr>\n",
       "      <th>1400</th>\n",
       "      <td>2021-07-14</td>\n",
       "      <td>campaign_id_79</td>\n",
       "      <td>463.274</td>\n",
       "      <td>0.0</td>\n",
       "      <td>463.274</td>\n",
       "    </tr>\n",
       "    <tr>\n",
       "      <th>799</th>\n",
       "      <td>2021-07-08</td>\n",
       "      <td>campaign_id_79</td>\n",
       "      <td>461.032</td>\n",
       "      <td>0.0</td>\n",
       "      <td>461.032</td>\n",
       "    </tr>\n",
       "    <tr>\n",
       "      <th>193</th>\n",
       "      <td>2021-07-02</td>\n",
       "      <td>campaign_id_79</td>\n",
       "      <td>449.084</td>\n",
       "      <td>0.0</td>\n",
       "      <td>449.084</td>\n",
       "    </tr>\n",
       "    <tr>\n",
       "      <th>2432</th>\n",
       "      <td>2021-07-25</td>\n",
       "      <td>campaign_id_79</td>\n",
       "      <td>425.826</td>\n",
       "      <td>0.0</td>\n",
       "      <td>425.826</td>\n",
       "    </tr>\n",
       "    <tr>\n",
       "      <th>2524</th>\n",
       "      <td>2021-07-26</td>\n",
       "      <td>campaign_id_79</td>\n",
       "      <td>419.281</td>\n",
       "      <td>0.0</td>\n",
       "      <td>419.281</td>\n",
       "    </tr>\n",
       "  </tbody>\n",
       "</table>\n",
       "</div>"
      ],
      "text/plain": [
       "      event_date     campaign_id  total_cost  total_cpc  cost_difference\n",
       "89    2021-07-01  campaign_id_79     584.017        0.0          584.017\n",
       "1299  2021-07-13  campaign_id_79     500.650        0.0          500.650\n",
       "1098  2021-07-11  campaign_id_79     489.728        0.0          489.728\n",
       "1199  2021-07-12  campaign_id_79     487.640        0.0          487.640\n",
       "397   2021-07-04  campaign_id_79     474.387        0.0          474.387\n",
       "1400  2021-07-14  campaign_id_79     463.274        0.0          463.274\n",
       "799   2021-07-08  campaign_id_79     461.032        0.0          461.032\n",
       "193   2021-07-02  campaign_id_79     449.084        0.0          449.084\n",
       "2432  2021-07-25  campaign_id_79     425.826        0.0          425.826\n",
       "2524  2021-07-26  campaign_id_79     419.281        0.0          419.281"
      ]
     },
     "execution_count": 353,
     "metadata": {},
     "output_type": "execute_result"
    }
   ],
   "source": [
    "# max cost difference\n",
    "discrepancies.sort_values(by=['cost_difference'], ascending=False).head(10)"
   ]
  },
  {
   "cell_type": "code",
   "execution_count": 354,
   "metadata": {},
   "outputs": [
    {
     "data": {
      "text/plain": [
       "108"
      ]
     },
     "execution_count": 354,
     "metadata": {},
     "output_type": "execute_result"
    }
   ],
   "source": [
    "# Find out how many unique campaign are there with a mismatch between cost and cpc\n",
    "len(discrepancies['campaign_id'].unique())"
   ]
  },
  {
   "cell_type": "markdown",
   "metadata": {},
   "source": [
    "We can see that there are cost discrepancies between api adwords table and session sources table however negligible. If these negligible differences are permissible or normal then a threshold can be established to consider only the significant discrepancies in cost."
   ]
  },
  {
   "cell_type": "markdown",
   "metadata": {},
   "source": [
    "### Question 2\n",
    "\n",
    "#### Are the conversions in the 'conversions' table stable over time? Any pattern?"
   ]
  },
  {
   "cell_type": "code",
   "execution_count": 355,
   "metadata": {},
   "outputs": [
    {
     "data": {
      "text/html": [
       "<div>\n",
       "<style scoped>\n",
       "    .dataframe tbody tr th:only-of-type {\n",
       "        vertical-align: middle;\n",
       "    }\n",
       "\n",
       "    .dataframe tbody tr th {\n",
       "        vertical-align: top;\n",
       "    }\n",
       "\n",
       "    .dataframe thead th {\n",
       "        text-align: right;\n",
       "    }\n",
       "</style>\n",
       "<table border=\"1\" class=\"dataframe\">\n",
       "  <thead>\n",
       "    <tr style=\"text-align: right;\">\n",
       "      <th></th>\n",
       "      <th>conv_id</th>\n",
       "      <th>user_id</th>\n",
       "      <th>conv_date</th>\n",
       "      <th>market</th>\n",
       "      <th>revenue</th>\n",
       "    </tr>\n",
       "  </thead>\n",
       "  <tbody>\n",
       "    <tr>\n",
       "      <th>0</th>\n",
       "      <td>conv_id_16788</td>\n",
       "      <td>user_id_569581</td>\n",
       "      <td>2021-07-15</td>\n",
       "      <td>NL</td>\n",
       "      <td>219.73</td>\n",
       "    </tr>\n",
       "    <tr>\n",
       "      <th>1</th>\n",
       "      <td>conv_id_9916</td>\n",
       "      <td>user_id_62541</td>\n",
       "      <td>2021-07-15</td>\n",
       "      <td>DE</td>\n",
       "      <td>104.21</td>\n",
       "    </tr>\n",
       "    <tr>\n",
       "      <th>2</th>\n",
       "      <td>conv_id_8443</td>\n",
       "      <td>user_id_494266</td>\n",
       "      <td>2021-07-15</td>\n",
       "      <td>NL</td>\n",
       "      <td>55.69</td>\n",
       "    </tr>\n",
       "  </tbody>\n",
       "</table>\n",
       "</div>"
      ],
      "text/plain": [
       "         conv_id         user_id   conv_date market  revenue\n",
       "0  conv_id_16788  user_id_569581  2021-07-15     NL   219.73\n",
       "1   conv_id_9916   user_id_62541  2021-07-15     DE   104.21\n",
       "2   conv_id_8443  user_id_494266  2021-07-15     NL    55.69"
      ]
     },
     "execution_count": 355,
     "metadata": {},
     "output_type": "execute_result"
    }
   ],
   "source": [
    "# Check the values of conversions dataframe\n",
    "conversions_df.head(3)"
   ]
  },
  {
   "cell_type": "code",
   "execution_count": 356,
   "metadata": {},
   "outputs": [],
   "source": [
    "conversions_df_task2 = conversions_df.copy() # Make a copy of the df so that operations can be done on it without affecting the original df\n",
    "\n",
    "# Convert conv_date to datetime\n",
    "conversions_df_task2['conv_date'] = pd.to_datetime(conversions_df_task2['conv_date'])\n",
    "\n",
    "# Update month_year to dd-mm-yyyy format\n",
    "conversions_df_task2['time'] = conversions_df_task2['conv_date'].dt.strftime('%d-%m-%Y')"
   ]
  },
  {
   "cell_type": "code",
   "execution_count": 357,
   "metadata": {},
   "outputs": [
    {
     "data": {
      "text/html": [
       "<div>\n",
       "<style scoped>\n",
       "    .dataframe tbody tr th:only-of-type {\n",
       "        vertical-align: middle;\n",
       "    }\n",
       "\n",
       "    .dataframe tbody tr th {\n",
       "        vertical-align: top;\n",
       "    }\n",
       "\n",
       "    .dataframe thead th {\n",
       "        text-align: right;\n",
       "    }\n",
       "</style>\n",
       "<table border=\"1\" class=\"dataframe\">\n",
       "  <thead>\n",
       "    <tr style=\"text-align: right;\">\n",
       "      <th></th>\n",
       "      <th>time</th>\n",
       "      <th>conv_id</th>\n",
       "      <th>revenue</th>\n",
       "    </tr>\n",
       "  </thead>\n",
       "  <tbody>\n",
       "    <tr>\n",
       "      <th>0</th>\n",
       "      <td>15-07-2021</td>\n",
       "      <td>968</td>\n",
       "      <td>48140.04</td>\n",
       "    </tr>\n",
       "    <tr>\n",
       "      <th>1</th>\n",
       "      <td>16-07-2021</td>\n",
       "      <td>809</td>\n",
       "      <td>38388.89</td>\n",
       "    </tr>\n",
       "    <tr>\n",
       "      <th>2</th>\n",
       "      <td>17-07-2021</td>\n",
       "      <td>691</td>\n",
       "      <td>34721.01</td>\n",
       "    </tr>\n",
       "  </tbody>\n",
       "</table>\n",
       "</div>"
      ],
      "text/plain": [
       "         time  conv_id   revenue\n",
       "0  15-07-2021      968  48140.04\n",
       "1  16-07-2021      809  38388.89\n",
       "2  17-07-2021      691  34721.01"
      ]
     },
     "execution_count": 357,
     "metadata": {},
     "output_type": "execute_result"
    }
   ],
   "source": [
    "# Group by the time\n",
    "monthly_conversions = conversions_df_task2.groupby('time').agg({'conv_id': 'count', 'revenue': 'sum'}).reset_index()\n",
    "monthly_conversions.head(3)"
   ]
  },
  {
   "cell_type": "code",
   "execution_count": 358,
   "metadata": {},
   "outputs": [
    {
     "data": {
      "image/png": "[encoded data removed]",
      "text/plain": [
       "<Figure size 1000x600 with 1 Axes>"
      ]
     },
     "metadata": {},
     "output_type": "display_data"
    },
    {
     "data": {
      "image/png": "[encoded data removed]",
      "text/plain": [
       "<Figure size 1000x600 with 1 Axes>"
      ]
     },
     "metadata": {},
     "output_type": "display_data"
    }
   ],
   "source": [
    "# Count conversions and sum revenue per month\n",
    "monthly_conversions = conversions_df_task2.groupby('time').agg({'conv_id': 'count', 'revenue': 'sum'}).reset_index()\n",
    "\n",
    "# Plotting number of conversions over time\n",
    "plt.figure(figsize=(10, 6))\n",
    "plt.plot(monthly_conversions['time'], monthly_conversions['conv_id'], marker='o')\n",
    "plt.xlabel('Time')\n",
    "plt.ylabel('Number of Conversions')\n",
    "plt.title('Monthly Conversion Trends')\n",
    "plt.xticks(rotation=85)\n",
    "plt.grid(True)\n",
    "plt.show()\n",
    "\n",
    "# Plotting total revenue over time\n",
    "plt.figure(figsize=(10, 6))\n",
    "plt.plot(monthly_conversions['time'], monthly_conversions['revenue'], marker='o')\n",
    "plt.xlabel('Time')\n",
    "plt.ylabel('Total Revenue')\n",
    "plt.title('Monthly Revenue Trends')\n",
    "plt.xticks(rotation=85)\n",
    "plt.grid(True)\n",
    "plt.show()"
   ]
  },
  {
   "cell_type": "markdown",
   "metadata": {},
   "source": [
    "Based on the data, the conversions over time are not stable."
   ]
  },
  {
   "cell_type": "markdown",
   "metadata": {},
   "source": [
    "### Question 3\n",
    "\n",
    "#### Double check conversions ('conversions' table) with backend ('conversions_backend' table), any issues?"
   ]
  },
  {
   "cell_type": "code",
   "execution_count": 359,
   "metadata": {},
   "outputs": [
    {
     "name": "stdout",
     "output_type": "stream",
     "text": [
      "Index(['conv_id', 'user_id', 'conv_date', 'market', 'revenue'], dtype='object')\n",
      "Index(['conv_id', 'user_id', 'conv_date', 'market', 'revenue'], dtype='object')\n"
     ]
    }
   ],
   "source": [
    "# Check the equality of columns\n",
    "\n",
    "print(conversions_df.columns)\n",
    "print(conversions_backend_df.columns)"
   ]
  },
  {
   "cell_type": "code",
   "execution_count": 360,
   "metadata": {},
   "outputs": [
    {
     "name": "stdout",
     "output_type": "stream",
     "text": [
      "(16954, 5)\n",
      "(17283, 5)\n",
      "There are 329 more records in conversions_backend_df as compared to conversions_df\n"
     ]
    }
   ],
   "source": [
    "# Check the count of records\n",
    "print(conversions_df.shape)\n",
    "print(conversions_backend_df.shape)\n",
    "print(f\"There are {conversions_backend_df.shape[0]-conversions_df.shape[0]} more records in conversions_backend_df as compared to conversions_df\")"
   ]
  },
  {
   "cell_type": "code",
   "execution_count": 361,
   "metadata": {},
   "outputs": [
    {
     "name": "stdout",
     "output_type": "stream",
     "text": [
      "Discrepancies found between conversions and backend conversions in 188 records.\n"
     ]
    },
    {
     "name": "stderr",
     "output_type": "stream",
     "text": [
      "/var/folders/dl/h2s3f6nn1_l6yk4dnrwj5xkh0000gn/T/ipykernel_9682/4169362693.py:26: SettingWithCopyWarning: \n",
      "A value is trying to be set on a copy of a slice from a DataFrame.\n",
      "Try using .loc[row_indexer,col_indexer] = value instead\n",
      "\n",
      "See the caveats in the documentation: https://pandas.pydata.org/pandas-docs/stable/user_guide/indexing.html#returning-a-view-versus-a-copy\n",
      "  discrepancies['discrepancy_columns'] = discrepancies.apply(find_discrepancies, axis=1)\n"
     ]
    }
   ],
   "source": [
    "# Merge the two dataframes on conv_id to compare\n",
    "merged_df = pd.merge(conversions_df, conversions_backend_df, on='conv_id', suffixes=('_conv', '_backend'))\n",
    "\n",
    "# Check for discrepancies in user_id, conv_date, market, and revenue\n",
    "discrepancies = merged_df[\n",
    "    (merged_df['user_id_conv'] != merged_df['user_id_backend']) |\n",
    "    (merged_df['conv_date_conv'] != merged_df['conv_date_backend']) |\n",
    "    (merged_df['market_conv'] != merged_df['market_backend']) |\n",
    "    (merged_df['revenue_conv'] != merged_df['revenue_backend'])\n",
    "]\n",
    "\n",
    "def find_discrepancies(row):\n",
    "    discrepancy_columns = []\n",
    "    if row['user_id_conv'] != row['user_id_backend']:\n",
    "        discrepancy_columns.append('user_id')\n",
    "    if row['conv_date_conv'] != row['conv_date_backend']:\n",
    "        discrepancy_columns.append('conv_date')\n",
    "    if row['market_conv'] != row['market_backend']:\n",
    "        discrepancy_columns.append('market')\n",
    "    if row['revenue_conv'] != row['revenue_backend']:\n",
    "        discrepancy_columns.append('revenue')\n",
    "    return ', '.join(discrepancy_columns)\n",
    "\n",
    "\n",
    "if not discrepancies.empty:\n",
    "    discrepancies['discrepancy_columns'] = discrepancies.apply(find_discrepancies, axis=1)\n",
    "    print(f\"Discrepancies found between conversions and backend conversions in {discrepancies.shape[0]} records.\")\n",
    "else:\n",
    "    print(\"No discrepancies found between conversions and backend conversions.\")\n"
   ]
  },
  {
   "cell_type": "code",
   "execution_count": 362,
   "metadata": {},
   "outputs": [
    {
     "data": {
      "text/html": [
       "<div>\n",
       "<style scoped>\n",
       "    .dataframe tbody tr th:only-of-type {\n",
       "        vertical-align: middle;\n",
       "    }\n",
       "\n",
       "    .dataframe tbody tr th {\n",
       "        vertical-align: top;\n",
       "    }\n",
       "\n",
       "    .dataframe thead th {\n",
       "        text-align: right;\n",
       "    }\n",
       "</style>\n",
       "<table border=\"1\" class=\"dataframe\">\n",
       "  <thead>\n",
       "    <tr style=\"text-align: right;\">\n",
       "      <th></th>\n",
       "      <th>conv_id</th>\n",
       "      <th>user_id_conv</th>\n",
       "      <th>conv_date_conv</th>\n",
       "      <th>market_conv</th>\n",
       "      <th>revenue_conv</th>\n",
       "      <th>user_id_backend</th>\n",
       "      <th>conv_date_backend</th>\n",
       "      <th>market_backend</th>\n",
       "      <th>revenue_backend</th>\n",
       "      <th>discrepancy_columns</th>\n",
       "    </tr>\n",
       "  </thead>\n",
       "  <tbody>\n",
       "    <tr>\n",
       "      <th>7</th>\n",
       "      <td>conv_id_11478</td>\n",
       "      <td>user_id_758246</td>\n",
       "      <td>2021-07-15</td>\n",
       "      <td>DE</td>\n",
       "      <td>0.00</td>\n",
       "      <td>user_id_758246</td>\n",
       "      <td>2021-07-15</td>\n",
       "      <td>DE</td>\n",
       "      <td>24.28</td>\n",
       "      <td>revenue</td>\n",
       "    </tr>\n",
       "    <tr>\n",
       "      <th>10</th>\n",
       "      <td>conv_id_87</td>\n",
       "      <td>user_id_376090</td>\n",
       "      <td>2021-07-15</td>\n",
       "      <td>FR</td>\n",
       "      <td>0.00</td>\n",
       "      <td>user_id_376090</td>\n",
       "      <td>2021-07-15</td>\n",
       "      <td>FR</td>\n",
       "      <td>69.96</td>\n",
       "      <td>revenue</td>\n",
       "    </tr>\n",
       "    <tr>\n",
       "      <th>22</th>\n",
       "      <td>conv_id_16249</td>\n",
       "      <td>user_id_182167</td>\n",
       "      <td>2021-07-15</td>\n",
       "      <td>AT</td>\n",
       "      <td>161.35</td>\n",
       "      <td>user_id_411752</td>\n",
       "      <td>2021-07-15</td>\n",
       "      <td>AT</td>\n",
       "      <td>161.35</td>\n",
       "      <td>user_id</td>\n",
       "    </tr>\n",
       "    <tr>\n",
       "      <th>152</th>\n",
       "      <td>conv_id_15098</td>\n",
       "      <td>user_id_47785</td>\n",
       "      <td>2021-07-15</td>\n",
       "      <td>NL</td>\n",
       "      <td>0.00</td>\n",
       "      <td>user_id_47785</td>\n",
       "      <td>2021-07-15</td>\n",
       "      <td>NL</td>\n",
       "      <td>8.26</td>\n",
       "      <td>revenue</td>\n",
       "    </tr>\n",
       "    <tr>\n",
       "      <th>163</th>\n",
       "      <td>conv_id_16021</td>\n",
       "      <td>user_id_173269</td>\n",
       "      <td>2021-07-15</td>\n",
       "      <td>DE</td>\n",
       "      <td>0.00</td>\n",
       "      <td>user_id_173269</td>\n",
       "      <td>2021-07-15</td>\n",
       "      <td>DE</td>\n",
       "      <td>49.08</td>\n",
       "      <td>revenue</td>\n",
       "    </tr>\n",
       "  </tbody>\n",
       "</table>\n",
       "</div>"
      ],
      "text/plain": [
       "           conv_id    user_id_conv conv_date_conv market_conv  revenue_conv  \\\n",
       "7    conv_id_11478  user_id_758246     2021-07-15          DE          0.00   \n",
       "10      conv_id_87  user_id_376090     2021-07-15          FR          0.00   \n",
       "22   conv_id_16249  user_id_182167     2021-07-15          AT        161.35   \n",
       "152  conv_id_15098   user_id_47785     2021-07-15          NL          0.00   \n",
       "163  conv_id_16021  user_id_173269     2021-07-15          DE          0.00   \n",
       "\n",
       "    user_id_backend conv_date_backend market_backend  revenue_backend  \\\n",
       "7    user_id_758246        2021-07-15             DE            24.28   \n",
       "10   user_id_376090        2021-07-15             FR            69.96   \n",
       "22   user_id_411752        2021-07-15             AT           161.35   \n",
       "152   user_id_47785        2021-07-15             NL             8.26   \n",
       "163  user_id_173269        2021-07-15             DE            49.08   \n",
       "\n",
       "    discrepancy_columns  \n",
       "7               revenue  \n",
       "10              revenue  \n",
       "22              user_id  \n",
       "152             revenue  \n",
       "163             revenue  "
      ]
     },
     "execution_count": 362,
     "metadata": {},
     "output_type": "execute_result"
    }
   ],
   "source": [
    "discrepancies.head(5)"
   ]
  },
  {
   "cell_type": "code",
   "execution_count": 366,
   "metadata": {},
   "outputs": [
    {
     "data": {
      "text/html": [
       "<div>\n",
       "<style scoped>\n",
       "    .dataframe tbody tr th:only-of-type {\n",
       "        vertical-align: middle;\n",
       "    }\n",
       "\n",
       "    .dataframe tbody tr th {\n",
       "        vertical-align: top;\n",
       "    }\n",
       "\n",
       "    .dataframe thead th {\n",
       "        text-align: right;\n",
       "    }\n",
       "</style>\n",
       "<table border=\"1\" class=\"dataframe\">\n",
       "  <thead>\n",
       "    <tr style=\"text-align: right;\">\n",
       "      <th></th>\n",
       "      <th>conv_id</th>\n",
       "      <th>user_id_conv</th>\n",
       "      <th>revenue_conv</th>\n",
       "      <th>user_id_backend</th>\n",
       "      <th>revenue_backend</th>\n",
       "      <th>discrepancy_columns</th>\n",
       "    </tr>\n",
       "  </thead>\n",
       "  <tbody>\n",
       "    <tr>\n",
       "      <th>225</th>\n",
       "      <td>conv_id_871</td>\n",
       "      <td>user_id_1149074</td>\n",
       "      <td>0.00</td>\n",
       "      <td>user_id_1149074</td>\n",
       "      <td>55.13</td>\n",
       "      <td>revenue</td>\n",
       "    </tr>\n",
       "    <tr>\n",
       "      <th>8569</th>\n",
       "      <td>conv_id_14644</td>\n",
       "      <td>user_id_16025</td>\n",
       "      <td>0.00</td>\n",
       "      <td>user_id_16025</td>\n",
       "      <td>28.33</td>\n",
       "      <td>revenue</td>\n",
       "    </tr>\n",
       "    <tr>\n",
       "      <th>4187</th>\n",
       "      <td>conv_id_1097</td>\n",
       "      <td>user_id_752185</td>\n",
       "      <td>0.00</td>\n",
       "      <td>user_id_752185</td>\n",
       "      <td>33.06</td>\n",
       "      <td>revenue</td>\n",
       "    </tr>\n",
       "    <tr>\n",
       "      <th>14862</th>\n",
       "      <td>conv_id_843</td>\n",
       "      <td>user_id_786042</td>\n",
       "      <td>51.57</td>\n",
       "      <td>user_id_122548</td>\n",
       "      <td>51.57</td>\n",
       "      <td>user_id</td>\n",
       "    </tr>\n",
       "    <tr>\n",
       "      <th>3476</th>\n",
       "      <td>conv_id_11517</td>\n",
       "      <td>user_id_991229</td>\n",
       "      <td>0.00</td>\n",
       "      <td>user_id_991229</td>\n",
       "      <td>98.82</td>\n",
       "      <td>revenue</td>\n",
       "    </tr>\n",
       "  </tbody>\n",
       "</table>\n",
       "</div>"
      ],
      "text/plain": [
       "             conv_id     user_id_conv  revenue_conv  user_id_backend  \\\n",
       "225      conv_id_871  user_id_1149074          0.00  user_id_1149074   \n",
       "8569   conv_id_14644    user_id_16025          0.00    user_id_16025   \n",
       "4187    conv_id_1097   user_id_752185          0.00   user_id_752185   \n",
       "14862    conv_id_843   user_id_786042         51.57   user_id_122548   \n",
       "3476   conv_id_11517   user_id_991229          0.00   user_id_991229   \n",
       "\n",
       "       revenue_backend discrepancy_columns  \n",
       "225              55.13             revenue  \n",
       "8569             28.33             revenue  \n",
       "4187             33.06             revenue  \n",
       "14862            51.57             user_id  \n",
       "3476             98.82             revenue  "
      ]
     },
     "execution_count": 366,
     "metadata": {},
     "output_type": "execute_result"
    }
   ],
   "source": [
    "discrepancies[['conv_id', 'user_id_conv', 'revenue_conv', 'user_id_backend', 'revenue_backend', 'discrepancy_columns']].sample(5)"
   ]
  },
  {
   "cell_type": "markdown",
   "metadata": {},
   "source": [
    "The last column `discrepancy_columns` indicate the column in which the discrepancy exists."
   ]
  },
  {
   "cell_type": "markdown",
   "metadata": {},
   "source": [
    "### Question 4 \n",
    "\n",
    "#### Are attribution results consistent? Do you find any conversions where the 'ihc' values don't make sense?"
   ]
  },
  {
   "cell_type": "code",
   "execution_count": 273,
   "metadata": {},
   "outputs": [
    {
     "data": {
      "text/html": [
       "<div>\n",
       "<style scoped>\n",
       "    .dataframe tbody tr th:only-of-type {\n",
       "        vertical-align: middle;\n",
       "    }\n",
       "\n",
       "    .dataframe tbody tr th {\n",
       "        vertical-align: top;\n",
       "    }\n",
       "\n",
       "    .dataframe thead th {\n",
       "        text-align: right;\n",
       "    }\n",
       "</style>\n",
       "<table border=\"1\" class=\"dataframe\">\n",
       "  <thead>\n",
       "    <tr style=\"text-align: right;\">\n",
       "      <th></th>\n",
       "      <th>conv_id</th>\n",
       "      <th>session_id</th>\n",
       "      <th>ihc</th>\n",
       "    </tr>\n",
       "  </thead>\n",
       "  <tbody>\n",
       "    <tr>\n",
       "      <th>22078</th>\n",
       "      <td>conv_id_7149</td>\n",
       "      <td>session_id_857540</td>\n",
       "      <td>0.378282</td>\n",
       "    </tr>\n",
       "    <tr>\n",
       "      <th>15951</th>\n",
       "      <td>conv_id_1629</td>\n",
       "      <td>session_id_579534</td>\n",
       "      <td>1.000000</td>\n",
       "    </tr>\n",
       "    <tr>\n",
       "      <th>14146</th>\n",
       "      <td>conv_id_14151</td>\n",
       "      <td>session_id_1253298</td>\n",
       "      <td>1.000000</td>\n",
       "    </tr>\n",
       "    <tr>\n",
       "      <th>14563</th>\n",
       "      <td>conv_id_1055</td>\n",
       "      <td>session_id_1247925</td>\n",
       "      <td>0.104980</td>\n",
       "    </tr>\n",
       "    <tr>\n",
       "      <th>18420</th>\n",
       "      <td>conv_id_17176</td>\n",
       "      <td>session_id_61222</td>\n",
       "      <td>0.343683</td>\n",
       "    </tr>\n",
       "  </tbody>\n",
       "</table>\n",
       "</div>"
      ],
      "text/plain": [
       "             conv_id          session_id       ihc\n",
       "22078   conv_id_7149   session_id_857540  0.378282\n",
       "15951   conv_id_1629   session_id_579534  1.000000\n",
       "14146  conv_id_14151  session_id_1253298  1.000000\n",
       "14563   conv_id_1055  session_id_1247925  0.104980\n",
       "18420  conv_id_17176    session_id_61222  0.343683"
      ]
     },
     "execution_count": 273,
     "metadata": {},
     "output_type": "execute_result"
    }
   ],
   "source": [
    "attribution_customer_journey_df.sample(5)"
   ]
  },
  {
   "cell_type": "markdown",
   "metadata": {},
   "source": [
    "Ideally sum of ihcs for a conv_id should equal to 1."
   ]
  },
  {
   "cell_type": "code",
   "execution_count": 274,
   "metadata": {},
   "outputs": [
    {
     "data": {
      "text/html": [
       "<div>\n",
       "<style scoped>\n",
       "    .dataframe tbody tr th:only-of-type {\n",
       "        vertical-align: middle;\n",
       "    }\n",
       "\n",
       "    .dataframe tbody tr th {\n",
       "        vertical-align: top;\n",
       "    }\n",
       "\n",
       "    .dataframe thead th {\n",
       "        text-align: right;\n",
       "    }\n",
       "</style>\n",
       "<table border=\"1\" class=\"dataframe\">\n",
       "  <thead>\n",
       "    <tr style=\"text-align: right;\">\n",
       "      <th></th>\n",
       "      <th>conv_id</th>\n",
       "      <th>ihc</th>\n",
       "    </tr>\n",
       "  </thead>\n",
       "  <tbody>\n",
       "    <tr>\n",
       "      <th>1</th>\n",
       "      <td>conv_id_10</td>\n",
       "      <td>1.000000</td>\n",
       "    </tr>\n",
       "    <tr>\n",
       "      <th>7</th>\n",
       "      <td>conv_id_10006</td>\n",
       "      <td>1.000000</td>\n",
       "    </tr>\n",
       "    <tr>\n",
       "      <th>8</th>\n",
       "      <td>conv_id_10007</td>\n",
       "      <td>0.999999</td>\n",
       "    </tr>\n",
       "    <tr>\n",
       "      <th>15</th>\n",
       "      <td>conv_id_10021</td>\n",
       "      <td>1.000000</td>\n",
       "    </tr>\n",
       "    <tr>\n",
       "      <th>16</th>\n",
       "      <td>conv_id_10022</td>\n",
       "      <td>1.000000</td>\n",
       "    </tr>\n",
       "    <tr>\n",
       "      <th>...</th>\n",
       "      <td>...</td>\n",
       "      <td>...</td>\n",
       "    </tr>\n",
       "    <tr>\n",
       "      <th>6972</th>\n",
       "      <td>conv_id_994</td>\n",
       "      <td>0.500000</td>\n",
       "    </tr>\n",
       "    <tr>\n",
       "      <th>6975</th>\n",
       "      <td>conv_id_9955</td>\n",
       "      <td>0.333617</td>\n",
       "    </tr>\n",
       "    <tr>\n",
       "      <th>6988</th>\n",
       "      <td>conv_id_9980</td>\n",
       "      <td>1.000000</td>\n",
       "    </tr>\n",
       "    <tr>\n",
       "      <th>6993</th>\n",
       "      <td>conv_id_999</td>\n",
       "      <td>1.000000</td>\n",
       "    </tr>\n",
       "    <tr>\n",
       "      <th>6999</th>\n",
       "      <td>conv_id_9999</td>\n",
       "      <td>1.000000</td>\n",
       "    </tr>\n",
       "  </tbody>\n",
       "</table>\n",
       "<p>1792 rows × 2 columns</p>\n",
       "</div>"
      ],
      "text/plain": [
       "            conv_id       ihc\n",
       "1        conv_id_10  1.000000\n",
       "7     conv_id_10006  1.000000\n",
       "8     conv_id_10007  0.999999\n",
       "15    conv_id_10021  1.000000\n",
       "16    conv_id_10022  1.000000\n",
       "...             ...       ...\n",
       "6972    conv_id_994  0.500000\n",
       "6975   conv_id_9955  0.333617\n",
       "6988   conv_id_9980  1.000000\n",
       "6993    conv_id_999  1.000000\n",
       "6999   conv_id_9999  1.000000\n",
       "\n",
       "[1792 rows x 2 columns]"
      ]
     },
     "execution_count": 274,
     "metadata": {},
     "output_type": "execute_result"
    }
   ],
   "source": [
    "grouped_attribution = attribution_customer_journey_df.groupby('conv_id')['ihc'].sum().reset_index()\n",
    "inconsistent_ihc = grouped_attribution[grouped_attribution['ihc']!=1]\n",
    "inconsistent_ihc"
   ]
  },
  {
   "cell_type": "markdown",
   "metadata": {},
   "source": [
    "We can see that due to issues with varying precision of decimal number, a ihc value with 1.000000 is also being considered as inconsistent. We need to fix this. We will set the 6 digits after the decimal for all values to make them consistent."
   ]
  },
  {
   "cell_type": "code",
   "execution_count": 275,
   "metadata": {},
   "outputs": [
    {
     "data": {
      "text/html": [
       "<div>\n",
       "<style scoped>\n",
       "    .dataframe tbody tr th:only-of-type {\n",
       "        vertical-align: middle;\n",
       "    }\n",
       "\n",
       "    .dataframe tbody tr th {\n",
       "        vertical-align: top;\n",
       "    }\n",
       "\n",
       "    .dataframe thead th {\n",
       "        text-align: right;\n",
       "    }\n",
       "</style>\n",
       "<table border=\"1\" class=\"dataframe\">\n",
       "  <thead>\n",
       "    <tr style=\"text-align: right;\">\n",
       "      <th></th>\n",
       "      <th>conv_id</th>\n",
       "      <th>ihc_fixed_decimal</th>\n",
       "    </tr>\n",
       "  </thead>\n",
       "  <tbody>\n",
       "    <tr>\n",
       "      <th>1</th>\n",
       "      <td>conv_id_10</td>\n",
       "      <td>0.999999</td>\n",
       "    </tr>\n",
       "    <tr>\n",
       "      <th>18</th>\n",
       "      <td>conv_id_10031</td>\n",
       "      <td>0.999999</td>\n",
       "    </tr>\n",
       "    <tr>\n",
       "      <th>20</th>\n",
       "      <td>conv_id_10034</td>\n",
       "      <td>0.999999</td>\n",
       "    </tr>\n",
       "    <tr>\n",
       "      <th>31</th>\n",
       "      <td>conv_id_10056</td>\n",
       "      <td>0.999999</td>\n",
       "    </tr>\n",
       "    <tr>\n",
       "      <th>32</th>\n",
       "      <td>conv_id_10059</td>\n",
       "      <td>0.999999</td>\n",
       "    </tr>\n",
       "    <tr>\n",
       "      <th>...</th>\n",
       "      <td>...</td>\n",
       "      <td>...</td>\n",
       "    </tr>\n",
       "    <tr>\n",
       "      <th>6959</th>\n",
       "      <td>conv_id_9912</td>\n",
       "      <td>0.746816</td>\n",
       "    </tr>\n",
       "    <tr>\n",
       "      <th>6972</th>\n",
       "      <td>conv_id_994</td>\n",
       "      <td>0.500000</td>\n",
       "    </tr>\n",
       "    <tr>\n",
       "      <th>6975</th>\n",
       "      <td>conv_id_9955</td>\n",
       "      <td>0.333617</td>\n",
       "    </tr>\n",
       "    <tr>\n",
       "      <th>6988</th>\n",
       "      <td>conv_id_9980</td>\n",
       "      <td>0.999999</td>\n",
       "    </tr>\n",
       "    <tr>\n",
       "      <th>6993</th>\n",
       "      <td>conv_id_999</td>\n",
       "      <td>0.999999</td>\n",
       "    </tr>\n",
       "  </tbody>\n",
       "</table>\n",
       "<p>1321 rows × 2 columns</p>\n",
       "</div>"
      ],
      "text/plain": [
       "            conv_id  ihc_fixed_decimal\n",
       "1        conv_id_10           0.999999\n",
       "18    conv_id_10031           0.999999\n",
       "20    conv_id_10034           0.999999\n",
       "31    conv_id_10056           0.999999\n",
       "32    conv_id_10059           0.999999\n",
       "...             ...                ...\n",
       "6959   conv_id_9912           0.746816\n",
       "6972    conv_id_994           0.500000\n",
       "6975   conv_id_9955           0.333617\n",
       "6988   conv_id_9980           0.999999\n",
       "6993    conv_id_999           0.999999\n",
       "\n",
       "[1321 rows x 2 columns]"
      ]
     },
     "execution_count": 275,
     "metadata": {},
     "output_type": "execute_result"
    }
   ],
   "source": [
    "# Ensure ihc values have six decimal places\n",
    "attribution_customer_journey_df['ihc_fixed_decimal'] = attribution_customer_journey_df['ihc'].apply(lambda x: f\"{x:.6f}\").astype(float)\n",
    "grouped_attribution = attribution_customer_journey_df.groupby('conv_id')['ihc_fixed_decimal'].sum().reset_index()\n",
    "inconsistent_ihc = grouped_attribution[grouped_attribution['ihc_fixed_decimal']!=1]\n",
    "inconsistent_ihc"
   ]
  },
  {
   "cell_type": "markdown",
   "metadata": {},
   "source": [
    "Here we can see that values which are very close to 1 are also being considered as inconsitent. Now, it can be a right observation based on the business. But here I will use a tolerance level to not include numbers which are very very close to 1 as inconsistent."
   ]
  },
  {
   "cell_type": "code",
   "execution_count": 281,
   "metadata": {},
   "outputs": [
    {
     "name": "stdout",
     "output_type": "stream",
     "text": [
      "There are 161 conversions with inconsistent ihc values\n"
     ]
    }
   ],
   "source": [
    "# Define a tolerance level for comparison\n",
    "tolerance = 10e-6 #0.000010\n",
    "\n",
    "# Find conv_ids where ihc sum is not within the tolerance of 1\n",
    "inconsistent_ihc = grouped_attribution[np.abs(grouped_attribution['ihc_fixed_decimal'] - 1) > tolerance]\n",
    "\n",
    "if not inconsistent_ihc.empty:\n",
    "    print(f\"There are {inconsistent_ihc.shape[0]} conversions with inconsistent ihc values\")\n",
    "else:\n",
    "    print(\"All conversions have consistent ihc values.\")"
   ]
  },
  {
   "cell_type": "code",
   "execution_count": 282,
   "metadata": {},
   "outputs": [
    {
     "data": {
      "text/html": [
       "<div>\n",
       "<style scoped>\n",
       "    .dataframe tbody tr th:only-of-type {\n",
       "        vertical-align: middle;\n",
       "    }\n",
       "\n",
       "    .dataframe tbody tr th {\n",
       "        vertical-align: top;\n",
       "    }\n",
       "\n",
       "    .dataframe thead th {\n",
       "        text-align: right;\n",
       "    }\n",
       "</style>\n",
       "<table border=\"1\" class=\"dataframe\">\n",
       "  <thead>\n",
       "    <tr style=\"text-align: right;\">\n",
       "      <th></th>\n",
       "      <th>conv_id</th>\n",
       "      <th>ihc_fixed_decimal</th>\n",
       "    </tr>\n",
       "  </thead>\n",
       "  <tbody>\n",
       "    <tr>\n",
       "      <th>1110</th>\n",
       "      <td>conv_id_12465</td>\n",
       "      <td>0.833250</td>\n",
       "    </tr>\n",
       "    <tr>\n",
       "      <th>2952</th>\n",
       "      <td>conv_id_16671</td>\n",
       "      <td>0.873600</td>\n",
       "    </tr>\n",
       "    <tr>\n",
       "      <th>278</th>\n",
       "      <td>conv_id_10614</td>\n",
       "      <td>0.000000</td>\n",
       "    </tr>\n",
       "    <tr>\n",
       "      <th>265</th>\n",
       "      <td>conv_id_10575</td>\n",
       "      <td>0.895845</td>\n",
       "    </tr>\n",
       "    <tr>\n",
       "      <th>3574</th>\n",
       "      <td>conv_id_2454</td>\n",
       "      <td>0.500000</td>\n",
       "    </tr>\n",
       "  </tbody>\n",
       "</table>\n",
       "</div>"
      ],
      "text/plain": [
       "            conv_id  ihc_fixed_decimal\n",
       "1110  conv_id_12465           0.833250\n",
       "2952  conv_id_16671           0.873600\n",
       "278   conv_id_10614           0.000000\n",
       "265   conv_id_10575           0.895845\n",
       "3574   conv_id_2454           0.500000"
      ]
     },
     "execution_count": 282,
     "metadata": {},
     "output_type": "execute_result"
    }
   ],
   "source": [
    "inconsistent_ihc.sample(5)"
   ]
  },
  {
   "cell_type": "markdown",
   "metadata": {},
   "source": [
    "Some of the inconsistent conversions with total ihc value below 1. This doesn't make sense because for a conversion the sum of ihcs of corresponding sessions should be equal to 1."
   ]
  },
  {
   "cell_type": "markdown",
   "metadata": {},
   "source": [
    "### Bonus Question 1\n",
    "\n",
    "#### Do we have an issue with channeling? Are the number of sessions per channel stable over time?\n",
    "\n"
   ]
  },
  {
   "cell_type": "markdown",
   "metadata": {},
   "source": [
    "To answer this questions, I would like to plot the trend of sessions overtime for top 10 channels."
   ]
  },
  {
   "cell_type": "code",
   "execution_count": 297,
   "metadata": {},
   "outputs": [],
   "source": [
    "# Group sessions by channel and date\n",
    "sessions_per_channel_per_day = session_sources_df.groupby(['channel_name', 'event_date']).size().reset_index(name='session_count')\n",
    "\n",
    "# Get the top 10 channels by session count\n",
    "top_10_channels = sessions_per_channel_per_day.groupby('channel_name')['session_count'].sum().nlargest(10).index\n",
    "\n",
    "# Filter data for top 10 channels\n",
    "top_10_data = sessions_per_channel_per_day[sessions_per_channel_per_day['channel_name'].isin(top_10_channels)]"
   ]
  },
  {
   "cell_type": "code",
   "execution_count": 298,
   "metadata": {},
   "outputs": [
    {
     "data": {
      "text/plain": [
       "Index(['SEO', 'Direct', 'Shopping - Non-branded', 'Social - Paid', 'Email',\n",
       "       'Direct Traffic', 'SEA - Branded', 'SEA - Brand',\n",
       "       'Shopping - Non Brand', 'SEA - Non-branded'],\n",
       "      dtype='object', name='channel_name')"
      ]
     },
     "execution_count": 298,
     "metadata": {},
     "output_type": "execute_result"
    }
   ],
   "source": [
    "top_10_channels"
   ]
  },
  {
   "cell_type": "code",
   "execution_count": 295,
   "metadata": {},
   "outputs": [
    {
     "data": {
      "image/png": "[encoded data removed]",
      "text/plain": [
       "<Figure size 1200x800 with 1 Axes>"
      ]
     },
     "metadata": {},
     "output_type": "display_data"
    }
   ],
   "source": [
    "\n",
    "# Visualize the sessions over time for top 10 channels\n",
    "plt.figure(figsize=(12, 8))\n",
    "for channel, data in top_10_data.groupby('channel_name'):\n",
    "    plt.plot(data['event_date'], data['session_count'], label=channel)\n",
    "\n",
    "plt.title('Number of Sessions per Channel over Time (Top 10 Channels)')\n",
    "plt.xlabel('Date')\n",
    "plt.ylabel('Number of Sessions')\n",
    "plt.legend()\n",
    "plt.xticks(rotation=45)\n",
    "plt.tight_layout()\n",
    "plt.show()"
   ]
  },
  {
   "cell_type": "markdown",
   "metadata": {},
   "source": [
    "### Bonus Question 2\n",
    "\n",
    "#### Any other issues?\n"
   ]
  },
  {
   "cell_type": "markdown",
   "metadata": {},
   "source": [
    "Possible Issue 1 : In conversions_df table, the min revenue of some conversions are 0.0. This should not be possible."
   ]
  },
  {
   "cell_type": "code",
   "execution_count": 299,
   "metadata": {},
   "outputs": [
    {
     "name": "stdout",
     "output_type": "stream",
     "text": [
      "The min revenue is 0.0\n",
      "The max revenue is 1839.2\n",
      "Number of conversions which show revenue as 0.0 are 197\n"
     ]
    },
    {
     "data": {
      "text/html": [
       "<div>\n",
       "<style scoped>\n",
       "    .dataframe tbody tr th:only-of-type {\n",
       "        vertical-align: middle;\n",
       "    }\n",
       "\n",
       "    .dataframe tbody tr th {\n",
       "        vertical-align: top;\n",
       "    }\n",
       "\n",
       "    .dataframe thead th {\n",
       "        text-align: right;\n",
       "    }\n",
       "</style>\n",
       "<table border=\"1\" class=\"dataframe\">\n",
       "  <thead>\n",
       "    <tr style=\"text-align: right;\">\n",
       "      <th></th>\n",
       "      <th>conv_id</th>\n",
       "      <th>user_id</th>\n",
       "      <th>conv_date</th>\n",
       "      <th>market</th>\n",
       "      <th>revenue</th>\n",
       "    </tr>\n",
       "  </thead>\n",
       "  <tbody>\n",
       "    <tr>\n",
       "      <th>7</th>\n",
       "      <td>conv_id_11478</td>\n",
       "      <td>user_id_758246</td>\n",
       "      <td>2021-07-15</td>\n",
       "      <td>DE</td>\n",
       "      <td>0.0</td>\n",
       "    </tr>\n",
       "    <tr>\n",
       "      <th>10</th>\n",
       "      <td>conv_id_87</td>\n",
       "      <td>user_id_376090</td>\n",
       "      <td>2021-07-15</td>\n",
       "      <td>FR</td>\n",
       "      <td>0.0</td>\n",
       "    </tr>\n",
       "    <tr>\n",
       "      <th>151</th>\n",
       "      <td>conv_id_15098</td>\n",
       "      <td>user_id_47785</td>\n",
       "      <td>2021-07-15</td>\n",
       "      <td>NL</td>\n",
       "      <td>0.0</td>\n",
       "    </tr>\n",
       "  </tbody>\n",
       "</table>\n",
       "</div>"
      ],
      "text/plain": [
       "           conv_id         user_id   conv_date market  revenue\n",
       "7    conv_id_11478  user_id_758246  2021-07-15     DE      0.0\n",
       "10      conv_id_87  user_id_376090  2021-07-15     FR      0.0\n",
       "151  conv_id_15098   user_id_47785  2021-07-15     NL      0.0"
      ]
     },
     "execution_count": 299,
     "metadata": {},
     "output_type": "execute_result"
    }
   ],
   "source": [
    "print(f\"The min revenue is {conversions_df['revenue'].min()}\")\n",
    "print(f\"The max revenue is {conversions_df['revenue'].max()}\")\n",
    "print(f\"Number of conversions which show revenue as 0.0 are {len(conversions_df[conversions_df['revenue']==0.0])}\")\n",
    "conversions_df[conversions_df['revenue']==0.0].head(3)"
   ]
  },
  {
   "cell_type": "markdown",
   "metadata": {},
   "source": [
    "This looks like a data quality issue. But there can be other reasons for this such as:\n",
    "1. A user used a 100% discount code while purchasing the item.\n",
    "2. Problem while performing the purchase, may be the conversion was recorded but due to issue with payment the revenue was not processed."
   ]
  },
  {
   "cell_type": "markdown",
   "metadata": {},
   "source": [
    "Possible Issue 2 : Some conversions in conversions_df table are not present in attribution_conversion_ids table. This is not ideal."
   ]
  },
  {
   "cell_type": "code",
   "execution_count": 300,
   "metadata": {},
   "outputs": [
    {
     "name": "stdout",
     "output_type": "stream",
     "text": [
      "Number of Conversions without corresponding sessions in attribution_customer_journey are 10076\n"
     ]
    }
   ],
   "source": [
    "# Get unique conv ids from conversions and attribution customer journey\n",
    "conversion_ids = set(conversions_df['conv_id'])\n",
    "attribution_conversion_ids = set(attribution_customer_journey_df['conv_id'])\n",
    "\n",
    "# Find conv_ids in conversions that are not in attribution_customer_journey\n",
    "missing_conv_ids = conversion_ids - attribution_conversion_ids\n",
    "\n",
    "# Check if there are any missing\n",
    "if missing_conv_ids:\n",
    "    print(f\"Number of Conversions without corresponding sessions in attribution_customer_journey are {len(missing_conv_ids)}\")\n",
    "else:\n",
    "    print(\"All conversions have corresponding sessions in attribution_customer_journey.\")"
   ]
  },
  {
   "cell_type": "markdown",
   "metadata": {},
   "source": [
    "This discrepancy can indicate potential data quality issue. This could be a result of data incompleteness or issues with data being recorded. Ideally, conversions in conversions table should be present in attribution customer journey table as well."
   ]
  }
 ],
 "metadata": {
  "kernelspec": {
   "display_name": "personalchatbot",
   "language": "python",
   "name": "python3"
  },
  "language_info": {
   "codemirror_mode": {
    "name": "ipython",
    "version": 3
   },
   "file_extension": ".py",
   "mimetype": "text/x-python",
   "name": "python",
   "nbconvert_exporter": "python",
   "pygments_lexer": "ipython3",
   "version": "3.12.3"
  }
 },
 "nbformat": 4,
 "nbformat_minor": 2
}
